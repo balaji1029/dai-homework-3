{
 "cells": [
  {
   "cell_type": "markdown",
   "id": "82837987",
   "metadata": {},
   "source": [
    "# Higher-Order Regression"
   ]
  },
  {
   "cell_type": "code",
   "execution_count": 1,
   "id": "cce300c7",
   "metadata": {},
   "outputs": [],
   "source": [
    "import numpy as np\n",
    "import pandas as pd\n",
    "import pickle\n",
    "import matplotlib.pyplot as plt"
   ]
  },
  {
   "cell_type": "code",
   "execution_count": 55,
   "id": "41c395ee",
   "metadata": {},
   "outputs": [],
   "source": [
    "class HigherOrderRegressor():\n",
    "    def __init__(self, degree):\n",
    "        self.degree = degree\n",
    "        self.X = None\n",
    "        self.Y = None\n",
    "        self.B = None\n",
    "        self.num_features = None\n",
    "\n",
    "    def fit(self, X, Y):\n",
    "        if len(X.shape) == 1:\n",
    "            X = X.reshape(-1, 1)\n",
    "        if len(Y.shape) == 1:\n",
    "            Y = Y.reshape(-1, 1)\n",
    "        self.num_features=X.shape[1]\n",
    "        indices=np.random.shuffle(np.arange(X.shape[0]))\n",
    "        temp_X = X[indices][0]\n",
    "        temp_Y = Y[indices][0]\n",
    "        # np.hstack((np.ones((self.X.shape[0], 1)), self.X))\n",
    "        self.orig_X = np.hstack((np.ones((X.shape[0], 1)), temp_X))\n",
    "        self.Y = temp_Y\n",
    "        self.X = self.recursive_generate_powers(0, self.degree, np.ones(X.shape[0])).T\n",
    "        try:\n",
    "            self.B = np.matmul(np.linalg.inv(np.matmul(self.X.T, self.X)),\n",
    "                                np.matmul(self.X.T, self.Y))\n",
    "        except:\n",
    "            self.B = np.matmul(np.linalg.pinv(np.matmul(self.X.T, self.X)),\n",
    "                                np.matmul(self.X.T, self.Y))\n",
    "\n",
    "    def recursive_generate_powers(self, max_feature_encountered, current_degree, current_product, use_orig=True):\n",
    "        if current_degree == 0:\n",
    "            return current_product\n",
    "        result=[]\n",
    "        for i in range(max_feature_encountered, self.num_features+1):\n",
    "            if use_orig:\n",
    "                result.append(self.recursive_generate_powers(i, current_degree-1,\n",
    "                                                            current_product*self.orig_X[:,i]))\n",
    "            else:\n",
    "                result.append(self.recursive_generate_powers(i, current_degree-1,\n",
    "                                                            current_product*self.test_X[:,i], False))\n",
    "        result=np.vstack(result)\n",
    "        return result\n",
    "    \n",
    "    def predict(self, X):\n",
    "        self.test_X=np.hstack((np.ones((X.shape[0], 1)), X.reshape(-1,1)))\n",
    "        self.final_testX=self.recursive_generate_powers(0, self.degree, np.ones(X.shape[0]), False).T\n",
    "        return np.matmul(self.final_testX, self.B)\n",
    "\n",
    "    def sum_of_squares(self, Y_true, Y_pred):\n",
    "        return np.sum((Y_true - Y_pred)**2)\n",
    "        \n",
    "    def r2_score(self, Y_true, Y_pred):\n",
    "        return 1 - np.sum((Y_true - Y_pred)**2) / np.sum((Y_true - np.mean(Y_true))**2)\n",
    "\n",
    "    def k_fold_testing(self, k=10):\n",
    "        width = self.X.shape[0]//k\n",
    "        average_r2 = 0\n",
    "        count = 0\n",
    "        average_ssr = 0\n",
    "        for i in range(0, self.X.shape[0], width):\n",
    "            count += 1\n",
    "            X_train = np.concatenate((self.X[:i], self.X[i+width:]))\n",
    "            Y_train = np.concatenate((self.Y[:i], self.Y[i+width:]))\n",
    "            X_test = self.X[i:i+width]\n",
    "            Y_test = self.Y[i:i+width]\n",
    "            try:\n",
    "                B = np.matmul(np.linalg.inv(np.matmul(X_train.T, X_train)), np.matmul(X_train.T, Y_train))\n",
    "            except:\n",
    "                B = np.matmul(np.linalg.pinv(np.matmul(X_train.T, X_train)), np.matmul(X_train.T, Y_train))\n",
    "            predictions = np.matmul(X_test, B)\n",
    "            average_r2 += self.r2_score(Y_test, predictions)\n",
    "            average_ssr += self.sum_of_squares(Y_test, predictions)\n",
    "        # print(self.X.shape)\n",
    "        try:\n",
    "            B = np.matmul(np.linalg.inv(np.matmul(self.X.T, self.X)), np.matmul(self.X.T, self.Y))\n",
    "        except:\n",
    "            B = np.matmul(np.linalg.pinv(np.matmul(self.X.T, self.X)), np.matmul(self.X.T, self.Y))\n",
    "        return average_r2/count, self.X.shape[0]*(average_ssr/(count*width)), np.matmul(self.X, B)\n",
    "    \n",
    "    def cross_validation(self, params):\n",
    "        maximum_param=np.max(params)\n",
    "        self.max_X=self.recursive_generate_powers(0, maximum_param, np.ones(self.X.shape[0])).T\n",
    "        # print(self.max_X)\n",
    "        responses = []\n",
    "        ssrs = []\n",
    "        factorials=[1]\n",
    "        for i in range(1, maximum_param+self.num_features+1):\n",
    "            factorials.append(factorials[-1]*i)\n",
    "        for param in params:\n",
    "            self.degree = param\n",
    "            # print((factorials[param+self.num_features]//factorials[self.num_features])//factorials[param])\n",
    "            self.X=self.max_X[:,:(factorials[param+self.num_features]//factorials[self.num_features])//factorials[param]]\n",
    "            response, ssr, plot_values = self.k_fold_testing()\n",
    "            responses.append(response)\n",
    "            ssrs.append(ssr)\n",
    "            fig=plt.figure()\n",
    "            plt.scatter(self.orig_X[:,1], self.Y)\n",
    "            indices=np.argsort(self.orig_X[:,1])\n",
    "            plt.plot(self.orig_X[:,1][indices], plot_values[indices], 'red')\n",
    "            fig.savefig(f\"degree_{param}.png\")\n",
    "        print(responses)\n",
    "        print(ssrs)\n",
    "    \n",
    "    def write_params(self):\n",
    "        with open(\"3_weights.pkl\", \"wb\") as f:\n",
    "            pickle.dump(self.B.reshape((self.degree+1,)), f)\n"
   ]
  },
  {
   "cell_type": "code",
   "execution_count": 56,
   "id": "38687be8",
   "metadata": {},
   "outputs": [],
   "source": [
    "train_data=pd.read_csv('train.csv')"
   ]
  },
  {
   "cell_type": "code",
   "execution_count": 57,
   "id": "91478661",
   "metadata": {},
   "outputs": [],
   "source": [
    "X=train_data['x'].to_numpy()\n",
    "Y=train_data['y'].to_numpy()"
   ]
  },
  {
   "cell_type": "code",
   "execution_count": 58,
   "id": "e6cc41c2",
   "metadata": {},
   "outputs": [],
   "source": [
    "test_data=pd.read_csv('test.csv')"
   ]
  },
  {
   "cell_type": "code",
   "execution_count": 59,
   "id": "212098b6",
   "metadata": {},
   "outputs": [],
   "source": [
    "X_test=test_data['x'].to_numpy()"
   ]
  },
  {
   "cell_type": "code",
   "execution_count": 60,
   "id": "23da930c",
   "metadata": {},
   "outputs": [],
   "source": [
    "regressor=HigherOrderRegressor(5)\n",
    "regressor.fit(X, Y)"
   ]
  },
  {
   "cell_type": "code",
   "execution_count": null,
   "id": "43b72586",
   "metadata": {},
   "outputs": [],
   "source": [
    "regressor.cross_validation(np.arange(1, 25))"
   ]
  },
  {
   "cell_type": "code",
   "execution_count": 62,
   "id": "45c2177c",
   "metadata": {},
   "outputs": [],
   "source": [
    "regressor3=HigherOrderRegressor(5)\n",
    "regressor3.fit(X,Y)"
   ]
  },
  {
   "cell_type": "code",
   "execution_count": 63,
   "id": "e88168ad",
   "metadata": {},
   "outputs": [],
   "source": [
    "regressor3.write_params()"
   ]
  },
  {
   "cell_type": "code",
   "execution_count": 64,
   "id": "8b9ac852",
   "metadata": {},
   "outputs": [],
   "source": [
    "test_data=pd.read_csv('test.csv')\n",
    "X_test=test_data['x'].to_numpy()\n",
    "test_data['y']=regressor3.predict(X_test)"
   ]
  },
  {
   "cell_type": "code",
   "execution_count": 67,
   "id": "b81a824c",
   "metadata": {},
   "outputs": [],
   "source": [
    "test_data.to_csv('3_predictions.csv', index=False)"
   ]
  },
  {
   "cell_type": "code",
   "execution_count": 66,
   "id": "832e24d7",
   "metadata": {},
   "outputs": [
    {
     "name": "stdout",
     "output_type": "stream",
     "text": [
      "(6,)\n"
     ]
    }
   ],
   "source": [
    "import pickle\n",
    "file=pickle.load(open(\"3_weights.pkl\", \"rb\"))\n",
    "print(file.shape)"
   ]
  },
  {
   "cell_type": "code",
   "execution_count": null,
   "id": "55e1bba8",
   "metadata": {},
   "outputs": [],
   "source": []
  }
 ],
 "metadata": {
  "kernelspec": {
   "display_name": "Python 3",
   "language": "python",
   "name": "python3"
  },
  "language_info": {
   "codemirror_mode": {
    "name": "ipython",
    "version": 3
   },
   "file_extension": ".py",
   "mimetype": "text/x-python",
   "name": "python",
   "nbconvert_exporter": "python",
   "pygments_lexer": "ipython3",
   "version": "3.10.15"
  }
 },
 "nbformat": 4,
 "nbformat_minor": 5
}
