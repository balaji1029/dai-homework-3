{
 "cells": [
  {
   "cell_type": "markdown",
   "id": "82837987",
   "metadata": {},
   "source": [
    "# Higher-Order Regression"
   ]
  },
  {
   "cell_type": "code",
   "execution_count": 2,
   "id": "cce300c7",
   "metadata": {},
   "outputs": [],
   "source": [
    "import numpy as np\n",
    "import pandas as pd\n",
    "import pickle\n",
    "import matplotlib.pyplot as plt"
   ]
  },
  {
   "cell_type": "code",
   "execution_count": 198,
   "id": "41c395ee",
   "metadata": {},
   "outputs": [],
   "source": [
    "class HigherOrderRegressor():\n",
    "    def __init__(self, degree):\n",
    "        self.degree = degree\n",
    "        self.X = None\n",
    "        self.Y = None\n",
    "        self.B = None\n",
    "        self.num_features = None\n",
    "        self.vander = []\n",
    "\n",
    "    def fit(self, X, Y):\n",
    "        if len(X.shape) == 1:\n",
    "            X = X.reshape(-1, 1)\n",
    "        if len(Y.shape) == 1:\n",
    "            Y = Y.reshape(-1, 1)\n",
    "        self.num_features=X.shape[1]\n",
    "        indices=np.random.shuffle(np.arange(X.shape[0]))\n",
    "        temp_X = X[indices][0]\n",
    "        temp_Y = Y[indices][0]\n",
    "        # np.hstack((np.ones((self.X.shape[0], 1)), self.X))\n",
    "        self.orig_X = np.hstack((np.ones((X.shape[0], 1)), temp_X))\n",
    "        self.Y = temp_Y\n",
    "        self.X = self.recursive_generate_powers(0, self.degree, np.ones(X.shape[0])).T\n",
    "        try:\n",
    "            self.B = np.matmul(np.linalg.inv(np.matmul(self.X.T, self.X)),\n",
    "                                np.matmul(self.X.T, self.Y))\n",
    "        except:\n",
    "            self.B = np.matmul(np.linalg.pinv(np.matmul(self.X.T, self.X)),\n",
    "                                np.matmul(self.X.T, self.Y))\n",
    "\n",
    "    def generate_powers(self, x):\n",
    "        powers = [1]\n",
    "        for i in range(1, self.degree+1):\n",
    "            powers.append(powers[-1]*x)\n",
    "        return np.array(powers)\n",
    "\n",
    "    def recursive_generate_powers(self, max_feature_encountered, current_degree, current_product, use_orig=True):\n",
    "        if current_degree == 0:\n",
    "            return current_product\n",
    "        result=[]\n",
    "        for i in range(max_feature_encountered, self.num_features+1):\n",
    "            if use_orig:\n",
    "                result.append(self.recursive_generate_powers(i, current_degree-1,\n",
    "                                                            current_product*self.orig_X[:,i]))\n",
    "            else:\n",
    "                result.append(self.recursive_generate_powers(i, current_degree-1,\n",
    "                                                            current_product*self.test_X[:,i], False))\n",
    "        result=np.vstack(result)\n",
    "        return result\n",
    "    \n",
    "    def predict_one(self, x):\n",
    "        return np.dot(self.generate_powers(x), self.B)\n",
    "\n",
    "    def predict(self, X):\n",
    "        self.test_X=np.hstack((np.ones((X.shape[0], 1)), X))\n",
    "        self.final_testX=self.recursive_generate_powers(0, self.degree, np.ones(X.shape[0]), False).T\n",
    "        return np.matmul(self.final_testX, self.B)\n",
    "\n",
    "    def sum_of_squares(self, Y_true, Y_pred):\n",
    "        return np.sum((Y_true - Y_pred)**2)\n",
    "        \n",
    "    def r2_score(self, Y_true, Y_pred):\n",
    "        # return np.sum((Y_true - Y_pred)**2)\n",
    "        return 1 - np.sum((Y_true - Y_pred)**2) / np.sum((Y_true - np.mean(Y_true))**2)\n",
    "\n",
    "    def k_fold_testing(self, k=10):\n",
    "        width = self.X.shape[0]//k\n",
    "        average_r2 = 0\n",
    "        count = 0\n",
    "        for i in range(0, self.X.shape[0], k):\n",
    "            count += 1\n",
    "            X_train = np.concatenate((self.X[:i], self.X[i+width:]))\n",
    "            Y_train = np.concatenate((self.Y[:i], self.Y[i+width:]))\n",
    "            X_test = self.X[i:i+width]\n",
    "            Y_test = self.Y[i:i+width]\n",
    "            B = np.matmul(np.linalg.inv(np.matmul(X_train.T, X_train)), np.matmul(X_train.T, Y_train))\n",
    "            predictions = np.matmul(X_test, B)\n",
    "            # average_r2 += r2_score(Y_test, predictions)\n",
    "            average_r2 += self.r2_score(Y_test, predictions)\n",
    "        B = np.matmul(np.linalg.inv(np.matmul(self.X.T, self.X)), np.matmul(self.X.T, self.Y))\n",
    "        return average_r2/count, np.matmul(self.X, B)\n",
    "    \n",
    "    def cross_validation(self, params):\n",
    "        maximum_param=np.max(params)\n",
    "        self.max_X=np.vander(self.orig_X, maximum_param+1, increasing=True)\n",
    "        responses = []\n",
    "        for param in params:\n",
    "            self.degree = param\n",
    "            self.X=self.max_X[:,:param+1]\n",
    "            response, plot_values = self.k_fold_testing()\n",
    "            responses.append(response)\n",
    "            # fig=plt.figure()\n",
    "            # plt.scatter(self.orig_X, self.Y)\n",
    "            # indices=np.argsort(self.orig_X)\n",
    "            # plt.plot(self.orig_X[indices], plot_values[indices], 'red')\n",
    "            # fig.savefig(f\"degree_{param}.png\")\n",
    "        print(responses)\n",
    "    \n",
    "    def write_params(self):\n",
    "        with open(\"3_weights.pkl\", \"wb\") as f:\n",
    "            pickle.dump(self.B, f)\n"
   ]
  },
  {
   "cell_type": "code",
   "execution_count": 5,
   "id": "38687be8",
   "metadata": {},
   "outputs": [],
   "source": [
    "train_data=pd.read_csv('train.csv')"
   ]
  },
  {
   "cell_type": "code",
   "execution_count": 6,
   "id": "91478661",
   "metadata": {},
   "outputs": [],
   "source": [
    "X=train_data['x'].to_numpy()\n",
    "Y=train_data['y'].to_numpy()"
   ]
  },
  {
   "cell_type": "code",
   "execution_count": 162,
   "id": "51d6df01",
   "metadata": {},
   "outputs": [],
   "source": [
    "regressor=HigherOrderRegressor(3)"
   ]
  },
  {
   "cell_type": "code",
   "execution_count": 163,
   "id": "991da17b",
   "metadata": {},
   "outputs": [],
   "source": [
    "regressor.fit(X,Y)"
   ]
  },
  {
   "cell_type": "code",
   "execution_count": 113,
   "id": "e6cc41c2",
   "metadata": {},
   "outputs": [],
   "source": [
    "test_data=pd.read_csv('test.csv')"
   ]
  },
  {
   "cell_type": "code",
   "execution_count": 114,
   "id": "212098b6",
   "metadata": {},
   "outputs": [],
   "source": [
    "X_test=test_data['x'].to_numpy()"
   ]
  },
  {
   "cell_type": "code",
   "execution_count": 119,
   "id": "23da930c",
   "metadata": {},
   "outputs": [],
   "source": [
    "regressor2=HigherOrderRegressor(3)"
   ]
  },
  {
   "cell_type": "code",
   "execution_count": 46,
   "id": "11fe735a",
   "metadata": {},
   "outputs": [],
   "source": [
    "X_train, X_val, Y_train, Y_val = train_test_split(X, Y, test_size=0.2, random_state=42)"
   ]
  },
  {
   "cell_type": "code",
   "execution_count": 74,
   "id": "85634427",
   "metadata": {},
   "outputs": [],
   "source": [
    "regressor.fit(X_train,Y_train)"
   ]
  },
  {
   "cell_type": "code",
   "execution_count": 75,
   "id": "a5d55554",
   "metadata": {},
   "outputs": [],
   "source": [
    "data=regressor.predict(X_val)"
   ]
  },
  {
   "cell_type": "code",
   "execution_count": 76,
   "id": "6ba8488d",
   "metadata": {},
   "outputs": [],
   "source": [
    "from sklearn.metrics import mean_squared_error, r2_score, mean_absolute_error"
   ]
  },
  {
   "cell_type": "code",
   "execution_count": 77,
   "id": "8fec550d",
   "metadata": {},
   "outputs": [
    {
     "data": {
      "text/plain": [
       "0.8776829081113265"
      ]
     },
     "execution_count": 77,
     "metadata": {},
     "output_type": "execute_result"
    }
   ],
   "source": [
    "r2_score(Y_val, data)"
   ]
  },
  {
   "cell_type": "code",
   "execution_count": 78,
   "id": "02a32985",
   "metadata": {},
   "outputs": [
    {
     "data": {
      "text/plain": [
       "819.8538414941444"
      ]
     },
     "execution_count": 78,
     "metadata": {},
     "output_type": "execute_result"
    }
   ],
   "source": [
    "mean_squared_error(Y_val, data)"
   ]
  },
  {
   "cell_type": "code",
   "execution_count": 79,
   "id": "ab39600f",
   "metadata": {},
   "outputs": [
    {
     "data": {
      "text/plain": [
       "22.557238245353524"
      ]
     },
     "execution_count": 79,
     "metadata": {},
     "output_type": "execute_result"
    }
   ],
   "source": [
    "mean_absolute_error(Y_val, data)"
   ]
  },
  {
   "cell_type": "code",
   "execution_count": 102,
   "id": "43b72586",
   "metadata": {},
   "outputs": [
    {
     "name": "stdout",
     "output_type": "stream",
     "text": [
      "[0.7405248627800795, 0.8110940468157531, 0.885533449535035, 0.8890032715554141, 0.8890277101115677, 0.888332487004736, 0.887539875919861, 0.8879689135086817, 0.8869996684551753]\n"
     ]
    }
   ],
   "source": [
    "regressor.cross_validation([2,3,4,5,6,7,8,9,10])"
   ]
  },
  {
   "cell_type": "code",
   "execution_count": 164,
   "id": "29eb2c82",
   "metadata": {},
   "outputs": [
    {
     "name": "stdout",
     "output_type": "stream",
     "text": [
      "[56427.175480097954, 39251.2107718163, 24080.14499184062, 23135.01264391381, 23147.39205431092, 23316.53520429746, 23507.28378862272, 23391.932968519566, 23591.837720512074]\n"
     ]
    }
   ],
   "source": [
    "regressor.cross_validation([2,3,4,5,6,7,8,9,10])"
   ]
  },
  {
   "cell_type": "code",
   "execution_count": 168,
   "id": "25392c2f",
   "metadata": {},
   "outputs": [],
   "source": [
    "regressor3=HigherOrderRegressor(5)"
   ]
  },
  {
   "cell_type": "code",
   "execution_count": 169,
   "id": "45c2177c",
   "metadata": {},
   "outputs": [],
   "source": [
    "regressor3.fit(X,Y)"
   ]
  },
  {
   "cell_type": "code",
   "execution_count": 170,
   "id": "e88168ad",
   "metadata": {},
   "outputs": [],
   "source": [
    "regressor3.write_params()"
   ]
  },
  {
   "cell_type": "code",
   "execution_count": 171,
   "id": "8b9ac852",
   "metadata": {},
   "outputs": [],
   "source": [
    "test_data=pd.read_csv('test.csv')\n",
    "X_test=test_data['x'].to_numpy()\n",
    "test_data['y']=regressor3.predict(X_test)"
   ]
  },
  {
   "cell_type": "code",
   "execution_count": 172,
   "id": "2bc499e7",
   "metadata": {},
   "outputs": [],
   "source": [
    "test_data.to_csv('3_predictions.csv', index=False)"
   ]
  },
  {
   "cell_type": "code",
   "execution_count": 191,
   "id": "6a727be8",
   "metadata": {},
   "outputs": [
    {
     "name": "stdout",
     "output_type": "stream",
     "text": [
      "[0.7073677200099657, 0.7405248627800795, 0.8110940468157531, 0.885533449535035, 0.8890032715554141, 0.8890277101115677, 0.888332487004736, 0.887539875919861, 0.8879689135086817, 0.8869996684551753, 0.8860458564815987, 0.8838815115222338, 0.882803391131459, 0.8827889386885583, 0.8805258162942892, 0.8837670082600091, 0.8842901613457899, 0.8871751805158606, 0.8819040050828425, 0.8816272586091627, 0.8799340747233307, 0.8634185203165906, -17.509161117014038, -62.03234099389781]\n"
     ]
    }
   ],
   "source": [
    "regressor4=HigherOrderRegressor(20)\n",
    "regressor4.fit(X, Y)\n",
    "regressor4.cross_validation(np.arange(1, 25))"
   ]
  },
  {
   "cell_type": "code",
   "execution_count": 189,
   "id": "aa896f2b",
   "metadata": {},
   "outputs": [
    {
     "data": {
      "text/plain": [
       "[<matplotlib.lines.Line2D at 0x7da53521d3c0>]"
      ]
     },
     "execution_count": 189,
     "metadata": {},
     "output_type": "execute_result"
    },
    {
     "data": {
      "image/png": "[encoded data removed]",
      "text/plain": [
       "<Figure size 640x480 with 1 Axes>"
      ]
     },
     "metadata": {},
     "output_type": "display_data"
    }
   ],
   "source": [
    "plt.plot(np.arange(1, 25), [64653.555302618384, 56427.175480097954, 39251.2107718163, 24080.14499184062, 23135.01264391381, 23147.39205431092, 23316.53520429746, 23507.28378862272, 23391.932968519566, 23591.837720512074, 23799.29808194501, 24306.126217608657, 24567.738597261134, 24511.039529749152, 25040.059015164665, 24245.658838890413, 24135.381150518013, 23388.984818572288, 24449.065706832644, 24631.227983779838, 24937.833575556066, 28290.30555397866, 2673741.993952508, 12928066.182318613])"
   ]
  },
  {
   "cell_type": "code",
   "execution_count": 192,
   "id": "b2362a52",
   "metadata": {},
   "outputs": [],
   "source": [
    "X_new=train_data.to_numpy()"
   ]
  },
  {
   "cell_type": "code",
   "execution_count": 199,
   "id": "fc75a6f7",
   "metadata": {},
   "outputs": [],
   "source": [
    "regressor=HigherOrderRegressor(5)\n",
    "X = X.reshape(-1, 1)  # Reshape X to have a single column if it's 1D\n",
    "Y = Y.reshape(-1, 1)"
   ]
  },
  {
   "cell_type": "code",
   "execution_count": 200,
   "id": "bc16fc7b",
   "metadata": {},
   "outputs": [],
   "source": [
    "regressor.fit(np.hstack((X,Y)), Y)"
   ]
  },
  {
   "cell_type": "code",
   "execution_count": 202,
   "id": "2e6940bd",
   "metadata": {},
   "outputs": [],
   "source": [
    "res=regressor.predict(np.hstack((X,Y)))"
   ]
  },
  {
   "cell_type": "code",
   "execution_count": 203,
   "id": "0ecbb92c",
   "metadata": {},
   "outputs": [
    {
     "name": "stdout",
     "output_type": "stream",
     "text": [
      "[[ 1.00000000e+00  4.33511435e-01  1.25266317e+02 ...  3.69406078e+05\n",
      "   1.06742603e+08  3.08440599e+10]\n",
      " [ 1.00000000e+00 -1.44346461e+00  1.45089757e+02 ...  6.36388819e+06\n",
      "  -6.39665829e+08  6.42959714e+10]\n",
      " [ 1.00000000e+00 -1.88092790e-01  3.61930294e+01 ...  1.67733227e+03\n",
      "  -3.22754190e+05  6.21047297e+07]\n",
      " ...\n",
      " [ 1.00000000e+00  4.87637236e-01  8.73965059e+01 ...  1.58736182e+05\n",
      "   2.84494019e+07  5.09882784e+09]\n",
      " [ 1.00000000e+00 -2.22644221e+00  1.94409180e+02 ...  3.64227858e+07\n",
      "  -3.18037623e+09  2.77705090e+11]\n",
      " [ 1.00000000e+00 -1.80002085e+00  1.30798106e+02 ...  7.25035773e+06\n",
      "  -5.26845595e+08  3.82831154e+10]]\n"
     ]
    }
   ],
   "source": [
    "print(regressor.final_testX)"
   ]
  },
  {
   "cell_type": "code",
   "execution_count": 204,
   "id": "de12c677",
   "metadata": {},
   "outputs": [
    {
     "data": {
      "text/plain": [
       "1.0"
      ]
     },
     "execution_count": 204,
     "metadata": {},
     "output_type": "execute_result"
    }
   ],
   "source": [
    "r2_score(Y, res)"
   ]
  },
  {
   "cell_type": "code",
   "execution_count": 205,
   "id": "2b2f050e",
   "metadata": {},
   "outputs": [],
   "source": [
    "from sklearn.metrics import r2_score"
   ]
  },
  {
   "cell_type": "code",
   "execution_count": 206,
   "id": "0e9ce782",
   "metadata": {},
   "outputs": [
    {
     "data": {
      "text/plain": [
       "<matplotlib.collections.PathCollection at 0x72ac98bc1e40>"
      ]
     },
     "execution_count": 206,
     "metadata": {},
     "output_type": "execute_result"
    },
    {
     "data": {
      "image/png": "[encoded data removed]",
      "text/plain": [
       "<Figure size 640x480 with 1 Axes>"
      ]
     },
     "metadata": {},
     "output_type": "display_data"
    }
   ],
   "source": [
    "plt.scatter(X, Y)\n",
    "plt.scatter(X, res, color='red')"
   ]
  },
  {
   "cell_type": "code",
   "execution_count": 168,
   "id": "eda3b5d1",
   "metadata": {},
   "outputs": [
    {
     "data": {
      "text/plain": [
       "array([[ 1.00000000e+00,  4.33511435e-01,  1.25266317e+02, ...,\n",
       "         3.69406078e+05,  1.06742603e+08,  3.08440599e+10],\n",
       "       [ 1.00000000e+00, -1.44346461e+00,  1.45089757e+02, ...,\n",
       "         6.36388819e+06, -6.39665829e+08,  6.42959714e+10],\n",
       "       [ 1.00000000e+00, -1.88092790e-01,  3.61930294e+01, ...,\n",
       "         1.67733227e+03, -3.22754190e+05,  6.21047297e+07],\n",
       "       ...,\n",
       "       [ 1.00000000e+00,  4.87637236e-01,  8.73965059e+01, ...,\n",
       "         1.58736182e+05,  2.84494019e+07,  5.09882784e+09],\n",
       "       [ 1.00000000e+00, -2.22644221e+00,  1.94409180e+02, ...,\n",
       "         3.64227858e+07, -3.18037623e+09,  2.77705090e+11],\n",
       "       [ 1.00000000e+00, -1.80002085e+00,  1.30798106e+02, ...,\n",
       "         7.25035773e+06, -5.26845595e+08,  3.82831154e+10]])"
      ]
     },
     "execution_count": 168,
     "metadata": {},
     "output_type": "execute_result"
    }
   ],
   "source": [
    "regressor.X"
   ]
  },
  {
   "cell_type": "code",
   "execution_count": 178,
   "id": "8280fc46",
   "metadata": {},
   "outputs": [
    {
     "data": {
      "text/plain": [
       "array([[3.43946948e-13],\n",
       "       [1.00000000e+00]])"
      ]
     },
     "execution_count": 178,
     "metadata": {},
     "output_type": "execute_result"
    }
   ],
   "source": [
    "np.matmul(np.linalg.pinv(np.matmul(np.hstack((X,Y)).T, np.hstack((X,Y)))),\n",
    "                            np.matmul(np.hstack((X,Y)).T, Y))\n"
   ]
  },
  {
   "cell_type": "code",
   "execution_count": 179,
   "id": "550d4d42",
   "metadata": {},
   "outputs": [
    {
     "data": {
      "text/plain": [
       "array([[ 4.33511435e-01,  1.25266317e+02],\n",
       "       [-1.44346461e+00,  1.45089757e+02],\n",
       "       [-1.88092790e-01,  3.61930294e+01],\n",
       "       [ 2.64125814e+00, -2.09962894e+01],\n",
       "       [-3.74476732e-01,  8.45660119e+01],\n",
       "       [-2.59155556e+00,  1.80299798e+02],\n",
       "       [-1.21537829e+00,  1.24079479e+02],\n",
       "       [-7.54980118e-01,  9.78615246e+01],\n",
       "       [ 2.76500795e+00, -1.47491848e+02],\n",
       "       [ 2.08804938e+00,  8.25813377e+00],\n",
       "       [-9.71046289e-01,  1.03465085e+02],\n",
       "       [ 2.35063800e+00, -3.76743379e+01],\n",
       "       [ 9.19204919e-01,  7.30184328e+01],\n",
       "       [ 2.78197656e+00, -8.78037898e+01],\n",
       "       [ 1.49272955e+00,  8.49816040e+01],\n",
       "       [-1.52362089e+00,  1.24552154e+02],\n",
       "       [-2.03676707e+00,  1.85460293e+02],\n",
       "       [-9.16598892e-01,  9.65199377e+01],\n",
       "       [ 2.94203368e+00, -1.31338426e+02],\n",
       "       [ 1.38073218e+00,  1.03048928e+02],\n",
       "       [-1.55148828e+00,  1.31061188e+02],\n",
       "       [-8.17735374e-01,  1.13768617e+02],\n",
       "       [ 4.19789464e-01,  8.71403506e+01],\n",
       "       [-2.48376229e-01,  5.02120133e+01],\n",
       "       [-1.48835407e+00,  1.22741166e+02],\n",
       "       [ 5.20706079e-01,  6.28602126e+01],\n",
       "       [-1.53344645e+00,  1.43653725e+02],\n",
       "       [-1.03979471e+00,  9.37576371e+01],\n",
       "       [-4.55806489e-01,  8.69534711e+01],\n",
       "       [-4.27225665e-01,  6.74014120e+01],\n",
       "       [ 6.24706824e-01,  7.85027054e+01],\n",
       "       [ 1.38513484e+00,  9.82798692e+01],\n",
       "       [ 2.17314910e+00,  4.97414025e+01],\n",
       "       [-2.03214289e+00,  1.49582940e+02],\n",
       "       [-1.86091253e+00,  1.78324955e+02],\n",
       "       [-1.35105858e+00,  1.28887526e+02],\n",
       "       [ 1.38425459e+00,  9.83495602e+01],\n",
       "       [-2.64986185e+00,  2.42494050e+02],\n",
       "       [-2.36456307e+00,  1.99072249e+02],\n",
       "       [ 2.13796818e-01,  9.21597618e+01],\n",
       "       [ 1.43730477e+00,  3.75612739e+01],\n",
       "       [ 2.93024303e+00, -9.65414394e+01],\n",
       "       [ 1.43558148e+00,  7.34819796e+01],\n",
       "       [-2.13988028e+00,  1.76219035e+02],\n",
       "       [ 2.80676803e+00, -6.87825225e+01],\n",
       "       [-4.58071204e-01,  1.09120783e+02],\n",
       "       [ 2.16330704e+00,  3.51871589e+01],\n",
       "       [ 1.73127307e+00,  5.94637818e+01],\n",
       "       [-6.23641783e-01,  9.61548178e+01],\n",
       "       [ 8.75364678e-01,  8.97097091e+01],\n",
       "       [-7.94628780e-01,  1.40286273e+02],\n",
       "       [ 4.54506972e-01,  8.76309009e+01],\n",
       "       [ 5.45236567e-01,  7.08795157e+01],\n",
       "       [-5.59599925e-01,  5.24509745e+01],\n",
       "       [ 2.73650181e+00, -9.97023222e+01],\n",
       "       [-2.31123826e-01,  8.69591398e+01],\n",
       "       [ 2.02766944e+00,  5.36876914e+01],\n",
       "       [ 2.87171005e+00, -8.15010848e+01],\n",
       "       [ 2.71124686e+00, -1.84279265e+01],\n",
       "       [-2.57378365e+00,  1.76338329e+02],\n",
       "       [ 7.82687621e-01,  8.39095569e+01],\n",
       "       [ 2.71674994e+00, -9.84498891e+01],\n",
       "       [-1.82050583e+00,  1.39464966e+02],\n",
       "       [-2.56659280e-01,  9.23187903e+01],\n",
       "       [-1.72012814e+00,  1.67432518e+02],\n",
       "       [-5.14422033e-01,  7.63557681e+01],\n",
       "       [ 2.57574850e+00, -2.61834068e+01],\n",
       "       [-1.00112909e+00,  1.13323559e+02],\n",
       "       [ 3.51983030e-02,  6.83959004e+01],\n",
       "       [ 2.65550160e+00, -6.29492374e+01],\n",
       "       [-1.59947847e+00,  1.41770207e+02],\n",
       "       [ 1.18457264e+00,  1.19938309e+02],\n",
       "       [ 2.96640474e+00, -1.20247077e+02],\n",
       "       [ 2.29224846e+00,  3.09340431e+01],\n",
       "       [-2.67335103e-01,  9.34482566e+01],\n",
       "       [ 1.07635664e+00,  8.88976031e+01],\n",
       "       [ 1.36226558e+00,  1.42179197e+02],\n",
       "       [-3.68390919e-01,  9.34363876e+01],\n",
       "       [-2.20507419e+00,  1.49127408e+02],\n",
       "       [-1.50347975e+00,  1.56268490e+02],\n",
       "       [-2.65891154e+00,  2.14346633e+02],\n",
       "       [ 2.85312903e+00, -9.32277525e+01],\n",
       "       [ 5.52251588e-01,  1.21267517e+02],\n",
       "       [-1.24323581e+00,  1.35422363e+02],\n",
       "       [-2.17090229e+00,  1.82545095e+02],\n",
       "       [ 1.79877531e+00,  5.35502941e+01],\n",
       "       [-2.60817476e+00,  1.74042004e+02],\n",
       "       [-5.10858784e-01,  1.04273943e+02],\n",
       "       [-1.37803257e+00,  1.59602984e+02],\n",
       "       [ 2.57577719e+00, -1.18948376e+01],\n",
       "       [-2.52286750e+00,  1.96999935e+02],\n",
       "       [-1.22066241e+00,  1.05133824e+02],\n",
       "       [ 1.29796322e+00,  1.03047160e+02],\n",
       "       [ 2.83751693e+00, -1.09971371e+02],\n",
       "       [ 2.29032127e+00,  7.07100240e+00],\n",
       "       [ 1.35356619e+00,  7.58177289e+01],\n",
       "       [ 2.75389633e+00, -6.10820065e+01],\n",
       "       [-2.20921283e+00,  2.15061113e+02],\n",
       "       [ 1.66894051e+00,  3.08877942e+01],\n",
       "       [-2.65182504e+00,  1.75216323e+02],\n",
       "       [ 1.22333150e+00,  1.02328936e+02],\n",
       "       [-5.56900217e-01,  8.76203136e+01],\n",
       "       [-2.10331017e+00,  1.75688923e+02],\n",
       "       [-2.89069904e-01,  6.67813824e+01],\n",
       "       [-8.40131613e-01,  1.00128085e+02],\n",
       "       [-2.49946539e+00,  2.26409807e+02],\n",
       "       [-1.47635014e+00,  1.48281272e+02],\n",
       "       [-5.45675428e-01,  5.47428890e+01],\n",
       "       [ 1.92595938e+00,  6.69821136e+01],\n",
       "       [-2.93143525e+00,  1.95208029e+02],\n",
       "       [ 1.49198172e+00,  1.18191689e+02],\n",
       "       [ 2.37927958e+00,  2.15990167e+01],\n",
       "       [-1.37995216e+00,  1.50144866e+02],\n",
       "       [ 9.95154705e-01,  9.55582681e+01],\n",
       "       [ 6.16580256e-01,  1.35434699e+02],\n",
       "       [ 6.86788239e-01,  7.32025432e+01],\n",
       "       [ 1.99571907e+00,  5.74786339e+01],\n",
       "       [-2.39863868e+00,  2.22429966e+02],\n",
       "       [-7.16623161e-02,  1.00741687e+02],\n",
       "       [ 2.57717590e+00,  1.77933319e+00],\n",
       "       [-1.41266633e+00,  1.47726509e+02],\n",
       "       [ 1.88278692e+00,  6.88690288e+01],\n",
       "       [-1.90032098e+00,  1.61634574e+02],\n",
       "       [ 2.77313127e+00, -7.29664046e+01],\n",
       "       [-2.75025619e-01,  9.07843042e+01],\n",
       "       [ 1.62348449e+00,  6.91021372e+01],\n",
       "       [-9.27889916e-01,  1.15559743e+02],\n",
       "       [ 3.92527871e-01,  1.04142416e+02],\n",
       "       [ 2.28661918e+00,  3.98525068e+01],\n",
       "       [ 1.37994337e+00,  7.13763895e+01],\n",
       "       [-1.48085284e+00,  1.62632019e+02],\n",
       "       [ 1.35152568e+00,  4.83794701e+01],\n",
       "       [-2.39823635e+00,  1.89995925e+02],\n",
       "       [ 1.19687565e+00,  6.73241651e+01],\n",
       "       [-1.87721465e+00,  1.69710233e+02],\n",
       "       [-4.55466069e-01,  9.51725583e+01],\n",
       "       [ 7.07260152e-01,  4.46835310e+01],\n",
       "       [ 4.45951493e-01,  5.08855795e+01],\n",
       "       [-6.10673627e-01,  7.85711719e+01],\n",
       "       [-1.15913940e+00,  9.64342597e+01],\n",
       "       [ 7.28870409e-01,  1.10319073e+02],\n",
       "       [-2.88484081e+00,  1.39788403e+02],\n",
       "       [ 2.09366133e+00,  6.47986665e+01],\n",
       "       [ 1.59195152e+00,  9.99753757e+01],\n",
       "       [-1.60353522e+00,  1.84102986e+02],\n",
       "       [ 2.09422985e+00,  3.60739650e+01],\n",
       "       [ 2.17064968e-01,  6.18126332e+01],\n",
       "       [ 1.09204284e-01,  1.22906716e+02],\n",
       "       [-1.21030604e+00,  1.69290257e+02],\n",
       "       [ 4.10603693e-01,  1.35621700e+02],\n",
       "       [ 1.19745036e+00,  9.32917809e+01],\n",
       "       [ 1.33233360e+00,  1.19277255e+02],\n",
       "       [-2.88726120e+00,  1.96081260e+02],\n",
       "       [ 1.00060029e+00,  8.32839730e+01],\n",
       "       [-2.87935472e+00,  1.63045522e+02],\n",
       "       [-1.40766305e+00,  1.24640714e+02],\n",
       "       [-2.33774915e+00,  1.66636314e+02],\n",
       "       [-3.93500247e-01,  8.19535990e+01],\n",
       "       [-2.61626840e+00,  1.95901396e+02],\n",
       "       [ 5.29902681e-01,  5.84382673e+01],\n",
       "       [ 6.29073118e-01,  9.30515788e+01],\n",
       "       [ 7.05812982e-01,  1.09336919e+02],\n",
       "       [-2.51339166e+00,  2.51650641e+02],\n",
       "       [-5.12028360e-01,  1.13239844e+02],\n",
       "       [ 2.42390373e+00,  8.81345903e+00],\n",
       "       [-1.44789560e+00,  9.99754770e+01],\n",
       "       [-2.72395613e+00,  1.72975895e+02],\n",
       "       [-6.99216635e-01,  1.07444736e+02],\n",
       "       [ 2.66801350e+00, -6.12514236e+01],\n",
       "       [-1.88860605e+00,  1.73875117e+02],\n",
       "       [ 2.14633587e+00,  2.89130495e+01],\n",
       "       [ 1.84391375e+00,  5.65482951e+01],\n",
       "       [-1.26960902e+00,  1.72715030e+02],\n",
       "       [-2.53826132e+00,  1.71486143e+02],\n",
       "       [ 9.12619620e-01,  1.01305813e+02],\n",
       "       [ 9.78469219e-01,  7.18105033e+01],\n",
       "       [-1.50748114e+00,  1.19028918e+02],\n",
       "       [ 8.73421467e-01,  1.09376523e+02],\n",
       "       [ 1.13010893e-01,  7.80819265e+01],\n",
       "       [-2.78782539e+00,  1.49497721e+02],\n",
       "       [ 1.55027192e+00,  9.19957724e+01],\n",
       "       [ 2.45306231e+00, -1.36458242e+01],\n",
       "       [-1.12833003e+00,  1.11885623e+02],\n",
       "       [-2.87609400e+00,  1.35220835e+02],\n",
       "       [-2.85192763e+00,  1.89890629e+02],\n",
       "       [-1.75517955e+00,  1.78447494e+02],\n",
       "       [-1.24711484e+00,  1.20315390e+02],\n",
       "       [-2.41739235e+00,  1.98994295e+02],\n",
       "       [-2.29035344e+00,  1.53394509e+02],\n",
       "       [-1.07989710e+00,  9.47079215e+01],\n",
       "       [ 1.78828100e+00,  5.75023053e+01],\n",
       "       [-1.25953436e+00,  1.33093882e+02],\n",
       "       [ 2.07845203e+00,  2.67237955e+01],\n",
       "       [-2.92971549e+00,  1.91704219e+02],\n",
       "       [-2.92778266e+00,  1.58589292e+02],\n",
       "       [-2.80017224e+00,  2.17918679e+02],\n",
       "       [-8.42952597e-01,  1.30511899e+02],\n",
       "       [-1.60979024e+00,  1.28398262e+02],\n",
       "       [-2.22683661e+00,  1.84176953e+02],\n",
       "       [-2.28763369e+00,  2.49791529e+02],\n",
       "       [-2.46238179e+00,  2.19324944e+02],\n",
       "       [-1.52779674e+00,  1.15885569e+02],\n",
       "       [ 2.55357983e+00, -1.11682775e+01],\n",
       "       [-1.29778158e-01,  6.80551481e+01],\n",
       "       [-2.80155245e+00,  1.58104878e+02],\n",
       "       [ 3.12469660e-01,  1.25040353e+02],\n",
       "       [ 2.68422354e+00, -6.21437477e+01],\n",
       "       [-2.78743904e-01,  2.80991443e+01],\n",
       "       [ 1.15483272e+00,  9.97310262e+01],\n",
       "       [-5.89718788e-01,  9.28047542e+01],\n",
       "       [ 2.20373643e+00,  2.46797098e+01],\n",
       "       [-3.17247728e-01,  7.60926739e+01],\n",
       "       [ 2.99308204e+00, -1.47631346e+02],\n",
       "       [-2.02504239e+00,  1.73109759e+02],\n",
       "       [-2.87868962e+00,  1.92887245e+02],\n",
       "       [-1.36306859e+00,  1.13043316e+02],\n",
       "       [ 2.71649407e+00, -6.76609727e+01],\n",
       "       [-4.17585363e-01,  9.15400627e+01],\n",
       "       [-4.11489387e-01,  7.18191818e+01],\n",
       "       [-2.18547454e-01,  8.39164667e+01],\n",
       "       [-1.55502732e+00,  1.73717505e+02],\n",
       "       [ 7.10881557e-01,  1.04937885e+02],\n",
       "       [ 3.44212748e-01,  1.19479752e+02],\n",
       "       [-1.37008339e+00,  1.11561198e+02],\n",
       "       [-5.92442995e-01,  1.11419804e+02],\n",
       "       [-2.13091344e+00,  1.72192079e+02],\n",
       "       [ 1.89314291e+00,  3.54107940e+01],\n",
       "       [ 2.22007289e+00,  3.07300019e+01],\n",
       "       [-1.29888692e+00,  1.64332999e+02],\n",
       "       [-2.41293309e+00,  2.10857374e+02],\n",
       "       [-8.62344244e-02,  1.01944279e+02],\n",
       "       [ 1.12492966e+00,  1.08976230e+02],\n",
       "       [-1.67303451e+00,  1.91292801e+02],\n",
       "       [ 2.69299098e-01,  9.56842851e+01],\n",
       "       [-2.51167036e-01,  1.09779790e+02],\n",
       "       [ 6.38359285e-01,  1.28752653e+02],\n",
       "       [-1.24187829e+00,  1.27035577e+02],\n",
       "       [ 2.89097634e+00, -1.55276080e+02],\n",
       "       [-2.27882063e+00,  1.93755315e+02],\n",
       "       [ 2.60528399e+00, -3.12202582e+01],\n",
       "       [ 8.32570544e-01,  8.19257229e+01],\n",
       "       [ 2.80779340e+00, -8.40211898e+01],\n",
       "       [ 2.69591293e+00, -9.29254183e+01],\n",
       "       [ 6.79138953e-02,  7.58593227e+01],\n",
       "       [ 3.28126852e-01,  7.10514529e+01],\n",
       "       [ 4.63371532e-01,  9.32722900e+01],\n",
       "       [ 2.91294857e+00, -1.13893268e+02],\n",
       "       [-1.09210092e+00,  9.49659917e+01],\n",
       "       [-2.67943691e+00,  1.43503019e+02],\n",
       "       [ 2.77161827e+00, -1.08581908e+02],\n",
       "       [ 1.73369519e-01,  1.19548144e+02],\n",
       "       [-1.03367759e+00,  9.81877083e+01],\n",
       "       [ 1.39488321e-01,  8.39771574e+01],\n",
       "       [-1.30961937e+00,  1.39741779e+02],\n",
       "       [ 6.72574336e-01,  4.22288008e+01],\n",
       "       [-2.57478133e+00,  1.88415296e+02],\n",
       "       [-2.02135363e-01,  1.13232100e+02],\n",
       "       [-3.77808277e-01,  2.49641796e+01],\n",
       "       [ 2.86497084e+00, -1.01893028e+02],\n",
       "       [ 4.21180623e-01,  1.13256294e+02],\n",
       "       [ 2.38002776e+00,  7.54050855e+00],\n",
       "       [-8.59758658e-01,  7.41090437e+01],\n",
       "       [-2.90636361e+00,  1.72667400e+02],\n",
       "       [-2.21366861e+00,  1.85578524e+02],\n",
       "       [ 8.63941195e-01,  1.27808590e+02],\n",
       "       [-1.35874779e+00,  1.37822844e+02],\n",
       "       [ 9.37977537e-01,  7.56377639e+01],\n",
       "       [ 2.75499962e+00, -7.37478894e+01],\n",
       "       [ 7.08092574e-01,  1.07260542e+02],\n",
       "       [ 5.39459858e-01,  1.12859368e+02],\n",
       "       [ 1.68317506e+00,  5.40298224e+01],\n",
       "       [-2.63864717e+00,  1.96296043e+02],\n",
       "       [ 1.97194149e+00,  1.06624381e+02],\n",
       "       [ 2.92881024e-01,  6.71017439e+01],\n",
       "       [ 1.17806093e+00,  1.04224159e+02],\n",
       "       [ 2.42426636e+00, -9.62004605e+00],\n",
       "       [ 2.93645866e+00, -9.28548560e+01],\n",
       "       [ 1.97364018e+00,  7.23715121e+01],\n",
       "       [ 2.75660005e+00, -1.30857220e+02],\n",
       "       [-5.56552972e-01,  1.05491861e+02],\n",
       "       [ 2.37231531e+00, -2.26539345e+01],\n",
       "       [ 1.22648641e+00,  7.40043000e+01],\n",
       "       [ 1.14015012e+00,  1.14184784e+02],\n",
       "       [ 3.13154820e-01,  1.17744016e+02],\n",
       "       [-1.26356344e+00,  1.48230942e+02],\n",
       "       [-1.96888141e+00,  1.46160755e+02],\n",
       "       [-1.90085183e+00,  1.96659393e+02],\n",
       "       [ 2.54980147e+00,  2.51154931e+00],\n",
       "       [-1.97022194e+00,  2.07533666e+02],\n",
       "       [-2.42340955e+00,  2.42597705e+02],\n",
       "       [-1.60659515e+00,  1.75230569e+02],\n",
       "       [-1.10742989e+00,  9.55414958e+01],\n",
       "       [-1.81767432e+00,  1.96729965e+02],\n",
       "       [ 8.16366333e-01,  5.60315751e+01],\n",
       "       [-2.77818933e-01,  6.49672477e+01],\n",
       "       [ 2.24572780e+00,  2.06832745e+00],\n",
       "       [-1.70695394e+00,  1.80694521e+02],\n",
       "       [ 1.28544780e+00,  5.89605857e+01],\n",
       "       [ 2.35154013e+00,  2.41973264e+01],\n",
       "       [ 1.67217238e+00,  6.52316756e+01],\n",
       "       [-2.01183506e+00,  1.86323378e+02],\n",
       "       [-1.33442341e+00,  1.77259549e+02],\n",
       "       [-4.27387794e-01,  1.20531266e+02],\n",
       "       [-7.54222900e-01,  8.46977483e+01],\n",
       "       [-1.50951921e+00,  1.25861851e+02],\n",
       "       [-2.90142222e+00,  1.56325773e+02],\n",
       "       [-1.42729110e+00,  1.21797092e+02],\n",
       "       [-1.92237793e+00,  9.60882812e+01],\n",
       "       [ 3.99608725e-01,  4.21342110e+01],\n",
       "       [ 7.94629156e-03,  5.13768644e+01],\n",
       "       [-2.08587177e+00,  1.47101174e+02],\n",
       "       [ 1.03851103e-01,  9.04611989e+01],\n",
       "       [-1.36537863e+00,  1.54265551e+02],\n",
       "       [ 2.70571567e+00, -5.74762044e+01],\n",
       "       [ 1.92460272e+00,  4.30547022e+01],\n",
       "       [ 1.00446228e+00,  7.28730473e+01],\n",
       "       [-2.61511502e+00,  1.33079302e+02],\n",
       "       [ 5.18460997e-01,  1.06498425e+02],\n",
       "       [ 1.15518954e+00,  7.89070288e+01],\n",
       "       [-6.43945941e-01,  8.05626883e+01],\n",
       "       [-2.17859837e+00,  2.11052386e+02],\n",
       "       [-1.48025038e+00,  1.47803856e+02],\n",
       "       [-2.21110320e+00,  1.86040850e+02],\n",
       "       [ 5.06856414e-01,  6.85001439e+01],\n",
       "       [ 1.77834885e+00,  8.57999482e+01],\n",
       "       [ 1.88979888e+00,  5.94497498e+01],\n",
       "       [ 1.18578718e+00,  7.87304920e+01],\n",
       "       [ 4.56944007e-01,  8.42561494e+01],\n",
       "       [ 7.73390634e-01,  8.59556073e+01],\n",
       "       [-1.17318956e+00,  8.97075874e+01],\n",
       "       [ 2.76942093e+00, -1.01272561e+02],\n",
       "       [-1.60423804e+00,  1.59460783e+02],\n",
       "       [ 2.66248847e+00, -5.75083284e+01],\n",
       "       [-6.09394448e-01,  5.38916854e+01],\n",
       "       [-2.38773114e+00,  1.93617286e+02],\n",
       "       [ 2.84553728e+00, -8.30379189e+01],\n",
       "       [-1.27769088e+00,  1.15038096e+02],\n",
       "       [ 9.61041225e-01,  7.86322648e+01],\n",
       "       [-7.88492363e-01,  8.12641332e+01],\n",
       "       [ 1.31089931e-01,  1.34153606e+02],\n",
       "       [-1.57264307e+00,  1.62365515e+02],\n",
       "       [ 1.19773233e+00,  1.09524586e+02],\n",
       "       [ 2.19829396e+00,  8.97129595e+00],\n",
       "       [ 2.20875634e+00,  1.88163345e+01],\n",
       "       [ 1.30115809e+00,  7.33846330e+01],\n",
       "       [-7.33488964e-01,  9.28762430e+01],\n",
       "       [ 1.64540214e+00,  8.00576756e+01],\n",
       "       [-2.63098007e-01,  1.29904841e+02],\n",
       "       [-1.19055110e+00,  7.53401089e+01],\n",
       "       [ 6.83795736e-01,  4.89162130e+01],\n",
       "       [ 1.43367449e-02,  4.94992967e+01],\n",
       "       [ 2.42969007e+00,  1.15150855e+01],\n",
       "       [-1.56518070e-02,  9.60619002e+01],\n",
       "       [-2.02227344e+00,  1.75218945e+02],\n",
       "       [-2.90202898e+00,  1.83198864e+02],\n",
       "       [ 1.13860959e+00,  1.17983804e+02],\n",
       "       [ 2.51689568e+00, -2.39834404e+01],\n",
       "       [-2.11115483e+00,  1.35493763e+02],\n",
       "       [-3.04250108e-01,  8.36881392e+01],\n",
       "       [ 2.56848776e+00, -7.98813970e+01],\n",
       "       [-2.97182714e+00,  9.64792700e+01],\n",
       "       [ 5.25597811e-01,  5.35076967e+01],\n",
       "       [ 2.81383023e+00, -8.66379476e+01],\n",
       "       [ 9.75027429e-01,  1.37127291e+02],\n",
       "       [ 1.66444537e+00,  6.26170812e+01],\n",
       "       [-1.47386111e+00,  1.62142457e+02],\n",
       "       [-2.20759136e+00,  1.86749590e+02],\n",
       "       [-1.57315654e+00,  8.46553881e+01],\n",
       "       [-6.20965555e-01,  9.81564683e+01],\n",
       "       [ 2.21693118e+00,  3.32279587e+00],\n",
       "       [ 1.71091747e+00,  1.44232026e+01],\n",
       "       [ 2.86056653e+00, -9.41526821e+01],\n",
       "       [ 1.18198345e+00,  7.92123362e+01],\n",
       "       [ 8.39526128e-01,  1.15256197e+02],\n",
       "       [ 2.13482005e+00,  3.52900882e+01],\n",
       "       [-7.57121172e-01,  9.39100718e+01],\n",
       "       [-4.95081751e-01,  1.17378344e+02],\n",
       "       [ 1.76218622e+00,  1.19184377e+02],\n",
       "       [-7.03151645e-01,  9.55924467e+01],\n",
       "       [ 1.09092179e+00,  9.65885906e+01],\n",
       "       [ 2.66623434e+00, -2.67139301e+01],\n",
       "       [ 1.03228684e+00,  5.86315307e+01],\n",
       "       [-8.67786909e-01,  1.23289547e+02],\n",
       "       [ 4.55678973e-01,  1.36466342e+02],\n",
       "       [ 8.03986186e-01,  8.17947466e+01],\n",
       "       [ 2.85875679e+00, -1.10415668e+02],\n",
       "       [-2.43635694e+00,  1.74425531e+02],\n",
       "       [ 1.93270640e+00,  9.03467980e+01],\n",
       "       [ 1.04274643e-01,  8.93378525e+01],\n",
       "       [ 1.79521552e+00,  6.89034609e+01],\n",
       "       [-1.69861809e+00,  1.52325276e+02],\n",
       "       [-6.99350887e-01,  8.24594009e+01],\n",
       "       [ 2.73843434e+00, -5.67584057e+01],\n",
       "       [-5.72471483e-02,  7.41297268e+01],\n",
       "       [ 2.64259167e+00, -4.38128554e+01],\n",
       "       [-1.19040819e+00,  1.29834760e+02],\n",
       "       [-1.88284196e+00,  1.66527747e+02],\n",
       "       [ 4.87637236e-01,  8.73965059e+01],\n",
       "       [-2.22644221e+00,  1.94409180e+02],\n",
       "       [-1.80002085e+00,  1.30798106e+02]])"
      ]
     },
     "execution_count": 179,
     "metadata": {},
     "output_type": "execute_result"
    }
   ],
   "source": [
    "np.hstack((X,Y))"
   ]
  },
  {
   "cell_type": "code",
   "execution_count": null,
   "id": "3fe33795",
   "metadata": {},
   "outputs": [],
   "source": []
  }
 ],
 "metadata": {
  "kernelspec": {
   "display_name": "Python 3",
   "language": "python",
   "name": "python3"
  },
  "language_info": {
   "codemirror_mode": {
    "name": "ipython",
    "version": 3
   },
   "file_extension": ".py",
   "mimetype": "text/x-python",
   "name": "python",
   "nbconvert_exporter": "python",
   "pygments_lexer": "ipython3",
   "version": "3.10.15"
  }
 },
 "nbformat": 4,
 "nbformat_minor": 5
}
