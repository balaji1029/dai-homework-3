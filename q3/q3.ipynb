{
 "cells": [
  {
   "cell_type": "markdown",
   "id": "82837987",
   "metadata": {},
   "source": [
    "# Higher-Order Regression"
   ]
  },
  {
   "cell_type": "code",
   "execution_count": 3,
   "id": "cce300c7",
   "metadata": {},
   "outputs": [],
   "source": [
    "import numpy as np\n",
    "import pandas as pd\n",
    "import matplotlib.pyplot as plt"
   ]
  },
  {
   "cell_type": "code",
   "execution_count": 40,
   "id": "41c395ee",
   "metadata": {},
   "outputs": [],
   "source": [
    "class HigherOrderRegressor():\n",
    "    def __init__(self, degree):\n",
    "        self.degree = degree\n",
    "        self.X = None\n",
    "        self.Y = None\n",
    "        self.B = None\n",
    "\n",
    "    def fit(self, X, Y):\n",
    "        self.Y = Y\n",
    "        self.X = np.vander(X, self.degree + 1, increasing=True)\n",
    "        self.B = np.matmul(np.linalg.inv(np.matmul(self.X.T, self.X)), np.matmul(self.X.T, self.Y))\n",
    "\n",
    "    def generate_powers(self, x):\n",
    "        powers = [1]\n",
    "        for i in range(1, self.degree+1):\n",
    "            powers.append(powers[-1]*x)\n",
    "        return np.array(powers)\n",
    "\n",
    "    def predict_one(self, x):\n",
    "        return np.dot(self.generate_powers(x), self.B)\n",
    "\n",
    "    def predict(self, X):\n",
    "        vectorized_predict_one = np.vectorize(self.predict_one)\n",
    "        return vectorized_predict_one(X)\n"
   ]
  },
  {
   "cell_type": "code",
   "execution_count": 25,
   "id": "38687be8",
   "metadata": {},
   "outputs": [],
   "source": [
    "train_data=pd.read_csv('train.csv')"
   ]
  },
  {
   "cell_type": "code",
   "execution_count": 26,
   "id": "91478661",
   "metadata": {},
   "outputs": [],
   "source": [
    "X=train_data['x'].to_numpy()\n",
    "Y=train_data['y'].to_numpy()"
   ]
  },
  {
   "cell_type": "code",
   "execution_count": 41,
   "id": "51d6df01",
   "metadata": {},
   "outputs": [],
   "source": [
    "regressor=HigherOrderRegressor(3)"
   ]
  },
  {
   "cell_type": "code",
   "execution_count": 42,
   "id": "991da17b",
   "metadata": {},
   "outputs": [],
   "source": [
    "regressor.fit(X,Y)"
   ]
  },
  {
   "cell_type": "code",
   "execution_count": 43,
   "id": "e6cc41c2",
   "metadata": {},
   "outputs": [],
   "source": [
    "test_data=pd.read_csv('test.csv')"
   ]
  },
  {
   "cell_type": "code",
   "execution_count": 44,
   "id": "212098b6",
   "metadata": {},
   "outputs": [],
   "source": [
    "X_test=test_data['x'].to_numpy()"
   ]
  },
  {
   "cell_type": "code",
   "execution_count": 45,
   "id": "23da930c",
   "metadata": {},
   "outputs": [],
   "source": [
    "from sklearn.model_selection import train_test_split"
   ]
  },
  {
   "cell_type": "code",
   "execution_count": 46,
   "id": "11fe735a",
   "metadata": {},
   "outputs": [],
   "source": [
    "X_train, X_val, Y_train, Y_val = train_test_split(X, Y, test_size=0.2, random_state=42)"
   ]
  },
  {
   "cell_type": "code",
   "execution_count": 47,
   "id": "85634427",
   "metadata": {},
   "outputs": [],
   "source": [
    "regressor.fit(X_train,Y_train)"
   ]
  },
  {
   "cell_type": "code",
   "execution_count": 49,
   "id": "a5d55554",
   "metadata": {},
   "outputs": [],
   "source": [
    "data=regressor.predict(X_val)"
   ]
  },
  {
   "cell_type": "code",
   "execution_count": 55,
   "id": "6ba8488d",
   "metadata": {},
   "outputs": [],
   "source": [
    "from sklearn.metrics import mean_squared_error, r2_score, mean_absolute_error"
   ]
  },
  {
   "cell_type": "code",
   "execution_count": 51,
   "id": "8fec550d",
   "metadata": {},
   "outputs": [
    {
     "data": {
      "text/plain": [
       "0.8776829081113265"
      ]
     },
     "execution_count": 51,
     "metadata": {},
     "output_type": "execute_result"
    }
   ],
   "source": [
    "r2_score(Y_val, data)"
   ]
  },
  {
   "cell_type": "code",
   "execution_count": 53,
   "id": "02a32985",
   "metadata": {},
   "outputs": [
    {
     "data": {
      "text/plain": [
       "819.8538414941444"
      ]
     },
     "execution_count": 53,
     "metadata": {},
     "output_type": "execute_result"
    }
   ],
   "source": [
    "mean_squared_error(Y_val, data)"
   ]
  },
  {
   "cell_type": "code",
   "execution_count": 54,
   "id": "ab39600f",
   "metadata": {},
   "outputs": [
    {
     "data": {
      "text/plain": [
       "22.557238245353524"
      ]
     },
     "execution_count": 54,
     "metadata": {},
     "output_type": "execute_result"
    }
   ],
   "source": [
    "mean_absolute_error(Y_val, data)"
   ]
  },
  {
   "cell_type": "code",
   "execution_count": null,
   "id": "43b72586",
   "metadata": {},
   "outputs": [],
   "source": []
  }
 ],
 "metadata": {
  "kernelspec": {
   "display_name": "Python 3 (ipykernel)",
   "language": "python",
   "name": "python3"
  },
  "language_info": {
   "codemirror_mode": {
    "name": "ipython",
    "version": 3
   },
   "file_extension": ".py",
   "mimetype": "text/x-python",
   "name": "python",
   "nbconvert_exporter": "python",
   "pygments_lexer": "ipython3",
   "version": "3.10.15"
  }
 },
 "nbformat": 4,
 "nbformat_minor": 5
}
