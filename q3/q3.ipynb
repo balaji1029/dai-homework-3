{
 "cells": [
  {
   "cell_type": "markdown",
   "id": "82837987",
   "metadata": {},
   "source": [
    "# Higher-Order Regression"
   ]
  },
  {
   "cell_type": "code",
   "execution_count": 166,
   "id": "cce300c7",
   "metadata": {},
   "outputs": [],
   "source": [
    "import numpy as np\n",
    "import pandas as pd\n",
    "import pickle\n",
    "import matplotlib.pyplot as plt"
   ]
  },
  {
   "cell_type": "code",
   "execution_count": 187,
   "id": "41c395ee",
   "metadata": {},
   "outputs": [],
   "source": [
    "class HigherOrderRegressor():\n",
    "    def __init__(self, degree):\n",
    "        self.degree = degree\n",
    "        self.X = None\n",
    "        self.Y = None\n",
    "        self.B = None\n",
    "\n",
    "    def fit(self, X, Y):\n",
    "        indices=np.random.shuffle(np.arange(X.shape[0]))\n",
    "        temp_X = X[indices][0]\n",
    "        temp_Y = Y[indices][0]\n",
    "        self.orig_X = temp_X\n",
    "        self.Y = temp_Y\n",
    "        self.X = np.vander(temp_X, self.degree + 1, increasing=True)\n",
    "        self.B = np.matmul(np.linalg.inv(np.matmul(self.X.T, self.X)), np.matmul(self.X.T, self.Y))\n",
    "\n",
    "    def generate_powers(self, x):\n",
    "        powers = [1]\n",
    "        for i in range(1, self.degree+1):\n",
    "            powers.append(powers[-1]*x)\n",
    "        return np.array(powers)\n",
    "\n",
    "    def predict_one(self, x):\n",
    "        return np.dot(self.generate_powers(x), self.B)\n",
    "\n",
    "    def predict(self, X):\n",
    "        vectorized_predict_one = np.vectorize(self.predict_one)\n",
    "        return vectorized_predict_one(X)\n",
    "\n",
    "    def sum_of_squares(self, Y_true, Y_pred):\n",
    "        return np.sum((Y_true - Y_pred)**2)\n",
    "        \n",
    "    def r2_score(self, Y_true, Y_pred):\n",
    "        # return np.sum((Y_true - Y_pred)**2)\n",
    "        return 1 - np.sum((Y_true - Y_pred)**2) / np.sum((Y_true - np.mean(Y_true))**2)\n",
    "\n",
    "    def k_fold_testing(self, k=10):\n",
    "        width = self.X.shape[0]//k\n",
    "        average_r2 = 0\n",
    "        count = 0\n",
    "        for i in range(0, self.X.shape[0], k):\n",
    "            count += 1\n",
    "            X_train = np.concatenate((self.X[:i], self.X[i+width:]))\n",
    "            Y_train = np.concatenate((self.Y[:i], self.Y[i+width:]))\n",
    "            X_test = self.X[i:i+width]\n",
    "            Y_test = self.Y[i:i+width]\n",
    "            B = np.matmul(np.linalg.inv(np.matmul(X_train.T, X_train)), np.matmul(X_train.T, Y_train))\n",
    "            predictions = np.matmul(X_test, B)\n",
    "            # average_r2 += r2_score(Y_test, predictions)\n",
    "            average_r2 += self.sum_of_squares(Y_test, predictions)\n",
    "        B = np.matmul(np.linalg.inv(np.matmul(self.X.T, self.X)), np.matmul(self.X.T, self.Y))\n",
    "        return average_r2/count, np.matmul(self.X, B)\n",
    "    \n",
    "    def cross_validation(self, params):\n",
    "        maximum_param=np.max(params)\n",
    "        self.max_X=np.vander(self.orig_X, maximum_param+1, increasing=True)\n",
    "        responses = []\n",
    "        for param in params:\n",
    "            self.degree = param\n",
    "            self.X=self.max_X[:,:param+1]\n",
    "            response, plot_values = self.k_fold_testing()\n",
    "            responses.append(response)\n",
    "            # fig=plt.figure()\n",
    "            # plt.scatter(self.orig_X, self.Y)\n",
    "            # indices=np.argsort(self.orig_X)\n",
    "            # plt.plot(self.orig_X[indices], plot_values[indices], 'red')\n",
    "            # fig.savefig(f\"degree_{param}.png\")\n",
    "        print(responses)\n",
    "    \n",
    "    def write_params(self):\n",
    "        with open(\"3_weights.pkl\", \"wb\") as f:\n",
    "            pickle.dump(self.B, f)\n"
   ]
  },
  {
   "cell_type": "code",
   "execution_count": 25,
   "id": "38687be8",
   "metadata": {},
   "outputs": [],
   "source": [
    "train_data=pd.read_csv('train.csv')"
   ]
  },
  {
   "cell_type": "code",
   "execution_count": 26,
   "id": "91478661",
   "metadata": {},
   "outputs": [],
   "source": [
    "X=train_data['x'].to_numpy()\n",
    "Y=train_data['y'].to_numpy()"
   ]
  },
  {
   "cell_type": "code",
   "execution_count": 162,
   "id": "51d6df01",
   "metadata": {},
   "outputs": [],
   "source": [
    "regressor=HigherOrderRegressor(3)"
   ]
  },
  {
   "cell_type": "code",
   "execution_count": 163,
   "id": "991da17b",
   "metadata": {},
   "outputs": [],
   "source": [
    "regressor.fit(X,Y)"
   ]
  },
  {
   "cell_type": "code",
   "execution_count": 113,
   "id": "e6cc41c2",
   "metadata": {},
   "outputs": [],
   "source": [
    "test_data=pd.read_csv('test.csv')"
   ]
  },
  {
   "cell_type": "code",
   "execution_count": 114,
   "id": "212098b6",
   "metadata": {},
   "outputs": [],
   "source": [
    "X_test=test_data['x'].to_numpy()"
   ]
  },
  {
   "cell_type": "code",
   "execution_count": 119,
   "id": "23da930c",
   "metadata": {},
   "outputs": [],
   "source": [
    "regressor2=HigherOrderRegressor(3)"
   ]
  },
  {
   "cell_type": "code",
   "execution_count": 46,
   "id": "11fe735a",
   "metadata": {},
   "outputs": [],
   "source": [
    "X_train, X_val, Y_train, Y_val = train_test_split(X, Y, test_size=0.2, random_state=42)"
   ]
  },
  {
   "cell_type": "code",
   "execution_count": 74,
   "id": "85634427",
   "metadata": {},
   "outputs": [],
   "source": [
    "regressor.fit(X_train,Y_train)"
   ]
  },
  {
   "cell_type": "code",
   "execution_count": 75,
   "id": "a5d55554",
   "metadata": {},
   "outputs": [],
   "source": [
    "data=regressor.predict(X_val)"
   ]
  },
  {
   "cell_type": "code",
   "execution_count": 76,
   "id": "6ba8488d",
   "metadata": {},
   "outputs": [],
   "source": [
    "from sklearn.metrics import mean_squared_error, r2_score, mean_absolute_error"
   ]
  },
  {
   "cell_type": "code",
   "execution_count": 77,
   "id": "8fec550d",
   "metadata": {},
   "outputs": [
    {
     "data": {
      "text/plain": [
       "0.8776829081113265"
      ]
     },
     "execution_count": 77,
     "metadata": {},
     "output_type": "execute_result"
    }
   ],
   "source": [
    "r2_score(Y_val, data)"
   ]
  },
  {
   "cell_type": "code",
   "execution_count": 78,
   "id": "02a32985",
   "metadata": {},
   "outputs": [
    {
     "data": {
      "text/plain": [
       "819.8538414941444"
      ]
     },
     "execution_count": 78,
     "metadata": {},
     "output_type": "execute_result"
    }
   ],
   "source": [
    "mean_squared_error(Y_val, data)"
   ]
  },
  {
   "cell_type": "code",
   "execution_count": 79,
   "id": "ab39600f",
   "metadata": {},
   "outputs": [
    {
     "data": {
      "text/plain": [
       "22.557238245353524"
      ]
     },
     "execution_count": 79,
     "metadata": {},
     "output_type": "execute_result"
    }
   ],
   "source": [
    "mean_absolute_error(Y_val, data)"
   ]
  },
  {
   "cell_type": "code",
   "execution_count": 102,
   "id": "43b72586",
   "metadata": {},
   "outputs": [
    {
     "name": "stdout",
     "output_type": "stream",
     "text": [
      "[0.7405248627800795, 0.8110940468157531, 0.885533449535035, 0.8890032715554141, 0.8890277101115677, 0.888332487004736, 0.887539875919861, 0.8879689135086817, 0.8869996684551753]\n"
     ]
    }
   ],
   "source": [
    "regressor.cross_validation([2,3,4,5,6,7,8,9,10])"
   ]
  },
  {
   "cell_type": "code",
   "execution_count": 164,
   "id": "29eb2c82",
   "metadata": {},
   "outputs": [
    {
     "name": "stdout",
     "output_type": "stream",
     "text": [
      "[56427.175480097954, 39251.2107718163, 24080.14499184062, 23135.01264391381, 23147.39205431092, 23316.53520429746, 23507.28378862272, 23391.932968519566, 23591.837720512074]\n"
     ]
    }
   ],
   "source": [
    "regressor.cross_validation([2,3,4,5,6,7,8,9,10])"
   ]
  },
  {
   "cell_type": "code",
   "execution_count": 168,
   "id": "25392c2f",
   "metadata": {},
   "outputs": [],
   "source": [
    "regressor3=HigherOrderRegressor(5)"
   ]
  },
  {
   "cell_type": "code",
   "execution_count": 169,
   "id": "45c2177c",
   "metadata": {},
   "outputs": [],
   "source": [
    "regressor3.fit(X,Y)"
   ]
  },
  {
   "cell_type": "code",
   "execution_count": 170,
   "id": "e88168ad",
   "metadata": {},
   "outputs": [],
   "source": [
    "regressor3.write_params()"
   ]
  },
  {
   "cell_type": "code",
   "execution_count": 171,
   "id": "8b9ac852",
   "metadata": {},
   "outputs": [],
   "source": [
    "test_data=pd.read_csv('test.csv')\n",
    "X_test=test_data['x'].to_numpy()\n",
    "test_data['y']=regressor3.predict(X_test)"
   ]
  },
  {
   "cell_type": "code",
   "execution_count": 172,
   "id": "2bc499e7",
   "metadata": {},
   "outputs": [],
   "source": [
    "test_data.to_csv('3_predictions.csv', index=False)"
   ]
  },
  {
   "cell_type": "code",
   "execution_count": 188,
   "id": "6a727be8",
   "metadata": {},
   "outputs": [
    {
     "name": "stdout",
     "output_type": "stream",
     "text": [
      "[64653.555302618384, 56427.175480097954, 39251.2107718163, 24080.14499184062, 23135.01264391381, 23147.39205431092, 23316.53520429746, 23507.28378862272, 23391.932968519566, 23591.837720512074, 23799.29808194501, 24306.126217608657, 24567.738597261134, 24511.039529749152, 25040.059015164665, 24245.658838890413, 24135.381150518013, 23388.984818572288, 24449.065706832644, 24631.227983779838, 24937.833575556066, 28290.30555397866, 2673741.993952508, 12928066.182318613]\n"
     ]
    }
   ],
   "source": [
    "regressor4=HigherOrderRegressor(20)\n",
    "regressor4.fit(X, Y)\n",
    "regressor4.cross_validation(np.arange(1, 25))"
   ]
  },
  {
   "cell_type": "code",
   "execution_count": 189,
   "id": "aa896f2b",
   "metadata": {},
   "outputs": [
    {
     "data": {
      "text/plain": [
       "[<matplotlib.lines.Line2D at 0x7da53521d3c0>]"
      ]
     },
     "execution_count": 189,
     "metadata": {},
     "output_type": "execute_result"
    },
    {
     "data": {
      "image/png": "[encoded data removed]",
      "text/plain": [
       "<Figure size 640x480 with 1 Axes>"
      ]
     },
     "metadata": {},
     "output_type": "display_data"
    }
   ],
   "source": [
    "plt.plot(np.arange(1, 25), [64653.555302618384, 56427.175480097954, 39251.2107718163, 24080.14499184062, 23135.01264391381, 23147.39205431092, 23316.53520429746, 23507.28378862272, 23391.932968519566, 23591.837720512074, 23799.29808194501, 24306.126217608657, 24567.738597261134, 24511.039529749152, 25040.059015164665, 24245.658838890413, 24135.381150518013, 23388.984818572288, 24449.065706832644, 24631.227983779838, 24937.833575556066, 28290.30555397866, 2673741.993952508, 12928066.182318613])"
   ]
  },
  {
   "cell_type": "code",
   "execution_count": null,
   "id": "b2362a52",
   "metadata": {},
   "outputs": [],
   "source": []
  }
 ],
 "metadata": {
  "kernelspec": {
   "display_name": "Python 3 (ipykernel)",
   "language": "python",
   "name": "python3"
  },
  "language_info": {
   "codemirror_mode": {
    "name": "ipython",
    "version": 3
   },
   "file_extension": ".py",
   "mimetype": "text/x-python",
   "name": "python",
   "nbconvert_exporter": "python",
   "pygments_lexer": "ipython3",
   "version": "3.10.15"
  }
 },
 "nbformat": 4,
 "nbformat_minor": 5
}
