{
 "cells": [
  {
   "cell_type": "code",
   "execution_count": 1,
   "metadata": {},
   "outputs": [],
   "source": [
    "import pandas as pd\n",
    "import numpy as np"
   ]
  },
  {
   "cell_type": "code",
   "execution_count": 2,
   "metadata": {},
   "outputs": [],
   "source": [
    "df=pd.read_csv('train.csv')"
   ]
  },
  {
   "cell_type": "code",
   "execution_count": 3,
   "metadata": {},
   "outputs": [],
   "source": [
    "X=df.drop(['yield', 'id', 'Row#'], axis=1)"
   ]
  },
  {
   "cell_type": "code",
   "execution_count": 4,
   "metadata": {},
   "outputs": [],
   "source": [
    "y=df['yield']"
   ]
  },
  {
   "cell_type": "code",
   "execution_count": 5,
   "metadata": {},
   "outputs": [],
   "source": [
    "from sklearn.model_selection import train_test_split\n",
    "from sklearn.metrics import mean_absolute_error, r2_score"
   ]
  },
  {
   "cell_type": "code",
   "execution_count": 6,
   "metadata": {},
   "outputs": [],
   "source": [
    "from sklearn.preprocessing import PolynomialFeatures"
   ]
  },
  {
   "cell_type": "code",
   "execution_count": 7,
   "metadata": {},
   "outputs": [],
   "source": [
    "class HigherOrderRegressor():\n",
    "    def __init__(self, degree):\n",
    "        self.degree = degree\n",
    "        self.X = None\n",
    "        self.Y = None\n",
    "        self.B = None\n",
    "        self.num_features = None\n",
    "\n",
    "    def fit(self, X, Y):\n",
    "        if len(X.shape) == 1:\n",
    "            X = X.reshape(-1, 1)\n",
    "        if len(Y.shape) == 1:\n",
    "            Y = Y.reshape(-1, 1)\n",
    "        self.num_features=X.shape[1]\n",
    "        indices=np.random.shuffle(np.arange(X.shape[0]))\n",
    "        temp_X = X[indices][0]\n",
    "        temp_Y = Y[indices][0]\n",
    "        # np.hstack((np.ones((self.X.shape[0], 1)), self.X))\n",
    "        self.orig_X = np.hstack((np.ones((X.shape[0], 1)), temp_X))\n",
    "        self.Y = temp_Y\n",
    "        self.X = self.recursive_generate_powers(0, self.degree, np.ones(X.shape[0])).T\n",
    "        try:\n",
    "            self.B = np.matmul(np.linalg.pinv(np.matmul(self.X.T, self.X)),\n",
    "                                np.matmul(self.X.T, self.Y))\n",
    "        except:\n",
    "            self.B = np.matmul(np.linalg.pinv(np.matmul(self.X.T, self.X)),\n",
    "                                np.matmul(self.X.T, self.Y))\n",
    "\n",
    "    def recursive_generate_powers(self, max_feature_encountered, current_degree, current_product, use_orig=True):\n",
    "        if current_degree == 0:\n",
    "            return current_product\n",
    "        result=[]\n",
    "        for i in range(max_feature_encountered, self.num_features+1):\n",
    "            if use_orig:\n",
    "                result.append(self.recursive_generate_powers(i, current_degree-1,\n",
    "                                                            current_product*self.orig_X[:,i]))\n",
    "            else:\n",
    "                result.append(self.recursive_generate_powers(i, current_degree-1,\n",
    "                                                            current_product*self.test_X[:,i], False))\n",
    "        result=np.vstack(result)\n",
    "        return result\n",
    "    \n",
    "    def predict(self, X):\n",
    "        if X.ndim == 1:\n",
    "            X = X.reshape(-1,1)\n",
    "        self.test_X=np.hstack((np.ones((X.shape[0], 1)), X))\n",
    "        self.final_testX=self.recursive_generate_powers(0, self.degree, np.ones(X.shape[0]), False).T\n",
    "        return np.matmul(self.final_testX, self.B)\n",
    "\n",
    "    def sum_of_squares(self, Y_true, Y_pred):\n",
    "        return np.sum((Y_true.reshape(-1) - Y_pred.reshape(-1))**2)\n",
    "    \n",
    "    def mean_absolute_error(self, Y_true, Y_pred):\n",
    "        return np.mean(np.abs(Y_true.reshape(-1) - Y_pred.reshape(-1))) \n",
    "        \n",
    "    def r2_score(self, Y_true, Y_pred):\n",
    "        return 1 - np.sum((Y_true.reshape(-1) - Y_pred.reshape(-1))**2) / np.sum((Y_true.reshape(-1) - np.mean(Y_true.reshape(-1)))**2)"
   ]
  },
  {
   "cell_type": "code",
   "execution_count": 8,
   "metadata": {},
   "outputs": [],
   "source": [
    "reg=HigherOrderRegressor(1)"
   ]
  },
  {
   "cell_type": "code",
   "execution_count": 20,
   "metadata": {},
   "outputs": [
    {
     "name": "stdout",
     "output_type": "stream",
     "text": [
      "261.28355604628484\n"
     ]
    }
   ],
   "source": [
    "X_train, X_test, y_train, y_test = train_test_split(X, y, test_size=0.2, random_state=42)\n",
    "X_train=X_train.values\n",
    "X_test=X_test.values\n",
    "y_train=y_train.values\n",
    "y_test=y_test.values\n",
    "mask = np.array(list(np.binary_repr(119, width=16)), dtype=int).astype(bool)\n",
    "X_train=X_train[:,mask]\n",
    "# new_mask=[0, 1, 2, 3, 4, 5, 6, 7, 8, 9, 10, 11, 12, 13, 14, 15, 16, 17, 18, 19, 20, 21, 22, 23, 24, 25, 26, 27, 29, 30, 31, 32, 33, 34, 35, 36, 37, 39, 40, 41, 42, 43, 44, 45, 46, 47, 48, 49, 50, 51, 52, 54, 55, 56, 57, 58, 59, 60, 61, 62, 63, 64, 65, 66, 67, 68, 69, 70, 72, 73, 74, 75, 76, 77, 78, 79, 80, 81, 82, 83, 84, 85, 86, 87, 88, 89, 90, 91, 92, 93, 95, 96, 97, 98, 99, 100, 101, 102, 103, 105, 106, 107, 108, 109, 110, 112, 113, 114, 115, 116, 117, 118, 119, 120, 121, 122, 123, 124, 125, 126, 127, 128, 129, 130, 131, 132, 133, 134, 135, 136, 137, 138, 139, 140, 141, 142, 143, 144, 145, 146, 147, 148, 149, 150, 151, 152, 153, 154, 155, 156, 157, 158, 159, 161, 162, 163, 164, 165, 166, 167, 168, 169, 170, 171, 172, 173, 174, 175, 176, 177, 178, 179, 180, 181, 182, 183, 184, 185, 186, 187, 188, 189, 190, 191, 192, 193, 194, 195, 196, 197, 198, 199, 200, 201, 202, 203, 204, 205, 206, 207, 208, 209]\n",
    "X_train=PolynomialFeatures(degree=4).fit_transform(X_train)\n",
    "new_mask=[i for i in range(len(X_train[0]))]\n",
    "X_test=X_test[:,mask]\n",
    "X_test=PolynomialFeatures(degree=4).fit_transform(X_test)\n",
    "reg.fit(X_train[:,new_mask], y_train)\n",
    "print(reg.mean_absolute_error(y_test, reg.predict(X_test[:,new_mask])))\n"
   ]
  },
  {
   "cell_type": "code",
   "execution_count": 19,
   "metadata": {},
   "outputs": [
    {
     "name": "stdout",
     "output_type": "stream",
     "text": [
      "4.022240318590775e-14\n"
     ]
    }
   ],
   "source": [
    "test_data=pd.read_csv('test.csv')\n",
    "X_test_final=test_data.drop(['id', 'Row#'], axis=1).values[:,mask]\n",
    "X_train_final_2=PolynomialFeatures(degree=4).fit_transform(X.values[:,mask])\n",
    "X_test_final_2=PolynomialFeatures(degree=4).fit_transform(X_test_final)\n",
    "# new_mask=[0, 1, 2, 3, 4, 5, 6, 7, 8, 9, 10, 11, 12, 13, 14, 15, 16, 17, 18, 19, 20, 21, 22, 23, 24, 25, 26, 27, 29, 30, 31, 32, 33, 34, 35, 36, 37, 39, 40, 41, 42, 43, 44, 45, 46, 47, 48, 49, 50, 51, 52, 54, 55, 56, 57, 58, 59, 60, 61, 62, 63, 64, 65, 66, 67, 68, 69, 70, 72, 73, 74, 75, 76, 77, 78, 79, 80, 81, 82, 83, 84, 85, 86, 87, 88, 89, 90, 91, 92, 93, 95, 96, 97, 98, 99, 100, 101, 102, 103, 105, 106, 107, 108, 109, 110, 112, 113, 114, 115, 116, 117, 118, 119, 120, 121, 122, 123, 124, 125, 126, 127, 128, 129, 130, 131, 132, 133, 134, 135, 136, 137, 138, 139, 140, 141, 142, 143, 144, 145, 146, 147, 148, 149, 150, 151, 152, 153, 154, 155, 156, 157, 158, 159, 161, 162, 163, 164, 165, 166, 167, 168, 169, 170, 171, 172, 173, 174, 175, 176, 177, 178, 179, 180, 181, 182, 183, 184, 185, 186, 187, 188, 189, 190, 191, 192, 193, 194, 195, 196, 197, 198, 199, 200, 201, 202, 203, 204, 205, 206, 207, 208, 209]\n",
    "new_mask=[i for i in range(len(X_train[0]))]\n",
    "reg.fit(X_train_final_2[:,new_mask], y.values)\n",
    "# print(X_train_final_2[:,new_mask].shape, X_test_final_2[:,new_mask].shape)    \n",
    "X_test_final_2=X_test_final_2[:,new_mask]\n",
    "y_pred=reg.predict(X_test_final_2)\n",
    "print(mean_absolute_error(pd.read_csv('output.csv')['yield'], y_pred))\n",
    "test_data['yield']=y_pred\n",
    "test_data[['id', 'yield']].to_csv('hello.csv', index=False)"
   ]
  },
  {
   "cell_type": "code",
   "execution_count": null,
   "metadata": {},
   "outputs": [],
   "source": []
  }
 ],
 "metadata": {
  "kernelspec": {
   "display_name": "Python 3",
   "language": "python",
   "name": "python3"
  },
  "language_info": {
   "codemirror_mode": {
    "name": "ipython",
    "version": 3
   },
   "file_extension": ".py",
   "mimetype": "text/x-python",
   "name": "python",
   "nbconvert_exporter": "python",
   "pygments_lexer": "ipython3",
   "version": "3.10.15"
  }
 },
 "nbformat": 4,
 "nbformat_minor": 2
}
