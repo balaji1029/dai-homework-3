{
  "cells": [
    {
      "cell_type": "code",
      "execution_count": 2,
      "metadata": {
        "id": "a8HOFqxI_ztO"
      },
      "outputs": [],
      "source": [
        "import numpy as np\n",
        "import matplotlib.pyplot as plt\n",
        "import pandas as pd\n",
        "from tqdm import tqdm\n",
        "import scipy\n",
        "import numpy as np\n",
        "import matplotlib.pyplot as plt"
      ]
    },
    {
      "cell_type": "code",
      "execution_count": 19,
      "metadata": {
        "id": "h32L_MO_AszO"
      },
      "outputs": [],
      "source": [
        "class NadarayaKernel:\n",
        "\n",
        "    def __init__(self, bandwidth = 1):\n",
        "        self.data = None\n",
        "        self.yi = None\n",
        "        self.bandwidth = bandwidth\n",
        "\n",
        "    def fit(self, data):\n",
        "        self.data = np.array(data.drop(['yield'], axis=1))\n",
        "        self.yi = np.array(data['yield'])\n",
        "\n",
        "    def kernel(self, x, xi):\n",
        "        d = x.shape[0]\n",
        "        # print(x.shape, xi.shape)\n",
        "        # print((x - xi).shape, self.bandwidth.shape)\n",
        "        # print(np.matmul((x - xi), self.bandwidth))\n",
        "        diff = x-xi\n",
        "        norm = np.linalg.norm(diff)\n",
        "        argument = norm / self.bandwidth\n",
        "        return (1 / np.sqrt(2 * np.pi)) * np.exp(-0.5 * argument**2)\n",
        "\n",
        "    def evaluate(self, x):\n",
        "        sum1 = 0\n",
        "        sum2 = 0\n",
        "        for i, xi in enumerate(self.data):\n",
        "            kernel = self.kernel(x, xi)\n",
        "            sum1 += kernel * self.yi[i]\n",
        "            sum2 += kernel\n",
        "        return 0 if sum2 == 0 else sum1 / sum2\n",
        "\n",
        "    def predict(self, test):\n",
        "        test = np.array(test)\n",
        "        test_expanded = test[:, np.newaxis, :]\n",
        "        data_expanded = self.data[np.newaxis, :, :]\n",
        "\n",
        "        # print(test_expanded.shape, data_expanded.shape)\n",
        "\n",
        "        diff = (test_expanded - data_expanded)/self.bandwidth\n",
        "        nor = np.sum(diff**2, axis=2)\n",
        "        kernel_values = (1 / np.sqrt(2 * np.pi))**16 * np.exp(-0.5 * (nor / self.bandwidth)**2)\n",
        "        # kernel_values = np.where(nor >= 1, 0, 3 * (1 - nor) / (4 * self.bandwidth))\n",
        "        # nor = np.where(nor >= 1, 1, nor)\n",
        "        # kernel_values = 3*40320*(1-nor)/(np.pi**8)\n",
        "        kernel_values_sum = np.sum(kernel_values, axis=1)\n",
        "\n",
        "        kernel_values_sum = np.where(kernel_values_sum == 0, 1, kernel_values_sum)\n",
        "\n",
        "        # print(kernel_values.shape, kernel_values_sum.shape)\n",
        "        # print(kernel_values_sum)\n",
        "        return np.sum(kernel_values * self.yi, axis=1) / kernel_values_sum"
      ]
    },
    {
      "cell_type": "code",
      "execution_count": 4,
      "metadata": {
        "colab": {
          "base_uri": "https://localhost:8080/",
          "height": 444
        },
        "id": "Jx6qCK8l_ztP",
        "outputId": "2dcb81cb-faa4-4aff-81c8-4f398a429d7c"
      },
      "outputs": [
        {
          "data": {
            "text/html": [
              "<div>\n",
              "<style scoped>\n",
              "    .dataframe tbody tr th:only-of-type {\n",
              "        vertical-align: middle;\n",
              "    }\n",
              "\n",
              "    .dataframe tbody tr th {\n",
              "        vertical-align: top;\n",
              "    }\n",
              "\n",
              "    .dataframe thead th {\n",
              "        text-align: right;\n",
              "    }\n",
              "</style>\n",
              "<table border=\"1\" class=\"dataframe\">\n",
              "  <thead>\n",
              "    <tr style=\"text-align: right;\">\n",
              "      <th></th>\n",
              "      <th>id</th>\n",
              "      <th>Row#</th>\n",
              "      <th>clonesize</th>\n",
              "      <th>honeybee</th>\n",
              "      <th>bumbles</th>\n",
              "      <th>andrena</th>\n",
              "      <th>osmia</th>\n",
              "      <th>MaxOfUpperTRange</th>\n",
              "      <th>MinOfUpperTRange</th>\n",
              "      <th>AverageOfUpperTRange</th>\n",
              "      <th>MaxOfLowerTRange</th>\n",
              "      <th>MinOfLowerTRange</th>\n",
              "      <th>AverageOfLowerTRange</th>\n",
              "      <th>RainingDays</th>\n",
              "      <th>AverageRainingDays</th>\n",
              "      <th>fruitset</th>\n",
              "      <th>fruitmass</th>\n",
              "      <th>seeds</th>\n",
              "      <th>yield</th>\n",
              "    </tr>\n",
              "  </thead>\n",
              "  <tbody>\n",
              "    <tr>\n",
              "      <th>0</th>\n",
              "      <td>0</td>\n",
              "      <td>639.0</td>\n",
              "      <td>25.0</td>\n",
              "      <td>0.50</td>\n",
              "      <td>0.25</td>\n",
              "      <td>0.75</td>\n",
              "      <td>0.63</td>\n",
              "      <td>94.6</td>\n",
              "      <td>57.2</td>\n",
              "      <td>79.0</td>\n",
              "      <td>68.2</td>\n",
              "      <td>33.0</td>\n",
              "      <td>55.9</td>\n",
              "      <td>34.0</td>\n",
              "      <td>0.56</td>\n",
              "      <td>0.402948</td>\n",
              "      <td>0.409261</td>\n",
              "      <td>31.274591</td>\n",
              "      <td>4418.44126</td>\n",
              "    </tr>\n",
              "    <tr>\n",
              "      <th>1</th>\n",
              "      <td>1</td>\n",
              "      <td>124.0</td>\n",
              "      <td>12.5</td>\n",
              "      <td>0.25</td>\n",
              "      <td>0.25</td>\n",
              "      <td>0.25</td>\n",
              "      <td>0.25</td>\n",
              "      <td>77.4</td>\n",
              "      <td>46.8</td>\n",
              "      <td>64.7</td>\n",
              "      <td>55.8</td>\n",
              "      <td>27.0</td>\n",
              "      <td>45.8</td>\n",
              "      <td>34.0</td>\n",
              "      <td>0.56</td>\n",
              "      <td>0.500438</td>\n",
              "      <td>0.445494</td>\n",
              "      <td>34.467567</td>\n",
              "      <td>5862.80545</td>\n",
              "    </tr>\n",
              "    <tr>\n",
              "      <th>2</th>\n",
              "      <td>2</td>\n",
              "      <td>485.0</td>\n",
              "      <td>25.0</td>\n",
              "      <td>0.50</td>\n",
              "      <td>0.25</td>\n",
              "      <td>0.38</td>\n",
              "      <td>0.75</td>\n",
              "      <td>94.6</td>\n",
              "      <td>57.2</td>\n",
              "      <td>79.0</td>\n",
              "      <td>68.2</td>\n",
              "      <td>33.0</td>\n",
              "      <td>55.9</td>\n",
              "      <td>24.0</td>\n",
              "      <td>0.39</td>\n",
              "      <td>0.509001</td>\n",
              "      <td>0.459421</td>\n",
              "      <td>36.624966</td>\n",
              "      <td>6079.08526</td>\n",
              "    </tr>\n",
              "    <tr>\n",
              "      <th>3</th>\n",
              "      <td>3</td>\n",
              "      <td>324.0</td>\n",
              "      <td>12.5</td>\n",
              "      <td>0.25</td>\n",
              "      <td>0.25</td>\n",
              "      <td>0.75</td>\n",
              "      <td>0.75</td>\n",
              "      <td>94.6</td>\n",
              "      <td>57.2</td>\n",
              "      <td>79.0</td>\n",
              "      <td>68.2</td>\n",
              "      <td>33.0</td>\n",
              "      <td>55.9</td>\n",
              "      <td>16.0</td>\n",
              "      <td>0.26</td>\n",
              "      <td>0.583379</td>\n",
              "      <td>0.498056</td>\n",
              "      <td>40.865478</td>\n",
              "      <td>7400.77538</td>\n",
              "    </tr>\n",
              "    <tr>\n",
              "      <th>4</th>\n",
              "      <td>4</td>\n",
              "      <td>235.0</td>\n",
              "      <td>12.5</td>\n",
              "      <td>0.25</td>\n",
              "      <td>0.25</td>\n",
              "      <td>0.50</td>\n",
              "      <td>0.63</td>\n",
              "      <td>77.4</td>\n",
              "      <td>46.8</td>\n",
              "      <td>64.7</td>\n",
              "      <td>55.8</td>\n",
              "      <td>27.0</td>\n",
              "      <td>45.8</td>\n",
              "      <td>24.0</td>\n",
              "      <td>0.39</td>\n",
              "      <td>0.447669</td>\n",
              "      <td>0.423764</td>\n",
              "      <td>33.298861</td>\n",
              "      <td>4858.24073</td>\n",
              "    </tr>\n",
              "    <tr>\n",
              "      <th>...</th>\n",
              "      <td>...</td>\n",
              "      <td>...</td>\n",
              "      <td>...</td>\n",
              "      <td>...</td>\n",
              "      <td>...</td>\n",
              "      <td>...</td>\n",
              "      <td>...</td>\n",
              "      <td>...</td>\n",
              "      <td>...</td>\n",
              "      <td>...</td>\n",
              "      <td>...</td>\n",
              "      <td>...</td>\n",
              "      <td>...</td>\n",
              "      <td>...</td>\n",
              "      <td>...</td>\n",
              "      <td>...</td>\n",
              "      <td>...</td>\n",
              "      <td>...</td>\n",
              "      <td>...</td>\n",
              "    </tr>\n",
              "    <tr>\n",
              "      <th>14995</th>\n",
              "      <td>14995</td>\n",
              "      <td>258.0</td>\n",
              "      <td>12.5</td>\n",
              "      <td>0.25</td>\n",
              "      <td>0.25</td>\n",
              "      <td>0.50</td>\n",
              "      <td>0.63</td>\n",
              "      <td>69.7</td>\n",
              "      <td>42.1</td>\n",
              "      <td>58.2</td>\n",
              "      <td>50.2</td>\n",
              "      <td>24.3</td>\n",
              "      <td>41.2</td>\n",
              "      <td>34.0</td>\n",
              "      <td>0.56</td>\n",
              "      <td>0.335927</td>\n",
              "      <td>0.352186</td>\n",
              "      <td>28.793440</td>\n",
              "      <td>3182.69865</td>\n",
              "    </tr>\n",
              "    <tr>\n",
              "      <th>14996</th>\n",
              "      <td>14996</td>\n",
              "      <td>256.0</td>\n",
              "      <td>12.5</td>\n",
              "      <td>0.25</td>\n",
              "      <td>0.25</td>\n",
              "      <td>0.38</td>\n",
              "      <td>0.63</td>\n",
              "      <td>77.4</td>\n",
              "      <td>46.8</td>\n",
              "      <td>64.7</td>\n",
              "      <td>55.8</td>\n",
              "      <td>27.0</td>\n",
              "      <td>45.8</td>\n",
              "      <td>34.0</td>\n",
              "      <td>0.56</td>\n",
              "      <td>0.545095</td>\n",
              "      <td>0.470719</td>\n",
              "      <td>38.042756</td>\n",
              "      <td>5862.80545</td>\n",
              "    </tr>\n",
              "    <tr>\n",
              "      <th>14997</th>\n",
              "      <td>14997</td>\n",
              "      <td>324.0</td>\n",
              "      <td>12.5</td>\n",
              "      <td>0.25</td>\n",
              "      <td>0.25</td>\n",
              "      <td>0.75</td>\n",
              "      <td>0.50</td>\n",
              "      <td>77.4</td>\n",
              "      <td>46.8</td>\n",
              "      <td>64.7</td>\n",
              "      <td>55.8</td>\n",
              "      <td>27.0</td>\n",
              "      <td>45.8</td>\n",
              "      <td>16.0</td>\n",
              "      <td>0.26</td>\n",
              "      <td>0.481801</td>\n",
              "      <td>0.442535</td>\n",
              "      <td>35.414082</td>\n",
              "      <td>5569.13925</td>\n",
              "    </tr>\n",
              "    <tr>\n",
              "      <th>14998</th>\n",
              "      <td>14998</td>\n",
              "      <td>691.0</td>\n",
              "      <td>25.0</td>\n",
              "      <td>0.50</td>\n",
              "      <td>0.38</td>\n",
              "      <td>0.38</td>\n",
              "      <td>0.75</td>\n",
              "      <td>86.0</td>\n",
              "      <td>52.0</td>\n",
              "      <td>71.9</td>\n",
              "      <td>62.0</td>\n",
              "      <td>30.0</td>\n",
              "      <td>50.8</td>\n",
              "      <td>1.0</td>\n",
              "      <td>0.10</td>\n",
              "      <td>0.552359</td>\n",
              "      <td>0.470847</td>\n",
              "      <td>38.625436</td>\n",
              "      <td>6795.88187</td>\n",
              "    </tr>\n",
              "    <tr>\n",
              "      <th>14999</th>\n",
              "      <td>14999</td>\n",
              "      <td>253.0</td>\n",
              "      <td>12.5</td>\n",
              "      <td>0.25</td>\n",
              "      <td>0.25</td>\n",
              "      <td>0.50</td>\n",
              "      <td>0.75</td>\n",
              "      <td>86.0</td>\n",
              "      <td>52.0</td>\n",
              "      <td>71.9</td>\n",
              "      <td>62.0</td>\n",
              "      <td>30.0</td>\n",
              "      <td>50.8</td>\n",
              "      <td>1.0</td>\n",
              "      <td>0.10</td>\n",
              "      <td>0.523846</td>\n",
              "      <td>0.464067</td>\n",
              "      <td>37.758138</td>\n",
              "      <td>6526.98819</td>\n",
              "    </tr>\n",
              "  </tbody>\n",
              "</table>\n",
              "<p>15000 rows × 19 columns</p>\n",
              "</div>"
            ],
            "text/plain": [
              "          id   Row#  clonesize  honeybee  bumbles  andrena  osmia  \\\n",
              "0          0  639.0       25.0      0.50     0.25     0.75   0.63   \n",
              "1          1  124.0       12.5      0.25     0.25     0.25   0.25   \n",
              "2          2  485.0       25.0      0.50     0.25     0.38   0.75   \n",
              "3          3  324.0       12.5      0.25     0.25     0.75   0.75   \n",
              "4          4  235.0       12.5      0.25     0.25     0.50   0.63   \n",
              "...      ...    ...        ...       ...      ...      ...    ...   \n",
              "14995  14995  258.0       12.5      0.25     0.25     0.50   0.63   \n",
              "14996  14996  256.0       12.5      0.25     0.25     0.38   0.63   \n",
              "14997  14997  324.0       12.5      0.25     0.25     0.75   0.50   \n",
              "14998  14998  691.0       25.0      0.50     0.38     0.38   0.75   \n",
              "14999  14999  253.0       12.5      0.25     0.25     0.50   0.75   \n",
              "\n",
              "       MaxOfUpperTRange  MinOfUpperTRange  AverageOfUpperTRange  \\\n",
              "0                  94.6              57.2                  79.0   \n",
              "1                  77.4              46.8                  64.7   \n",
              "2                  94.6              57.2                  79.0   \n",
              "3                  94.6              57.2                  79.0   \n",
              "4                  77.4              46.8                  64.7   \n",
              "...                 ...               ...                   ...   \n",
              "14995              69.7              42.1                  58.2   \n",
              "14996              77.4              46.8                  64.7   \n",
              "14997              77.4              46.8                  64.7   \n",
              "14998              86.0              52.0                  71.9   \n",
              "14999              86.0              52.0                  71.9   \n",
              "\n",
              "       MaxOfLowerTRange  MinOfLowerTRange  AverageOfLowerTRange  RainingDays  \\\n",
              "0                  68.2              33.0                  55.9         34.0   \n",
              "1                  55.8              27.0                  45.8         34.0   \n",
              "2                  68.2              33.0                  55.9         24.0   \n",
              "3                  68.2              33.0                  55.9         16.0   \n",
              "4                  55.8              27.0                  45.8         24.0   \n",
              "...                 ...               ...                   ...          ...   \n",
              "14995              50.2              24.3                  41.2         34.0   \n",
              "14996              55.8              27.0                  45.8         34.0   \n",
              "14997              55.8              27.0                  45.8         16.0   \n",
              "14998              62.0              30.0                  50.8          1.0   \n",
              "14999              62.0              30.0                  50.8          1.0   \n",
              "\n",
              "       AverageRainingDays  fruitset  fruitmass      seeds       yield  \n",
              "0                    0.56  0.402948   0.409261  31.274591  4418.44126  \n",
              "1                    0.56  0.500438   0.445494  34.467567  5862.80545  \n",
              "2                    0.39  0.509001   0.459421  36.624966  6079.08526  \n",
              "3                    0.26  0.583379   0.498056  40.865478  7400.77538  \n",
              "4                    0.39  0.447669   0.423764  33.298861  4858.24073  \n",
              "...                   ...       ...        ...        ...         ...  \n",
              "14995                0.56  0.335927   0.352186  28.793440  3182.69865  \n",
              "14996                0.56  0.545095   0.470719  38.042756  5862.80545  \n",
              "14997                0.26  0.481801   0.442535  35.414082  5569.13925  \n",
              "14998                0.10  0.552359   0.470847  38.625436  6795.88187  \n",
              "14999                0.10  0.523846   0.464067  37.758138  6526.98819  \n",
              "\n",
              "[15000 rows x 19 columns]"
            ]
          },
          "execution_count": 4,
          "metadata": {},
          "output_type": "execute_result"
        }
      ],
      "source": [
        "data = pd.read_csv('train.csv')\n",
        "data"
      ]
    },
    {
      "cell_type": "code",
      "execution_count": 5,
      "metadata": {
        "id": "HEROmHpu_ztQ"
      },
      "outputs": [],
      "source": [
        "data.drop(['id', 'Row#'], axis=1, inplace=True)"
      ]
    },
    {
      "cell_type": "code",
      "execution_count": 6,
      "metadata": {
        "id": "32UiLyLL_ztQ"
      },
      "outputs": [],
      "source": [
        "train_x = data.drop(['yield'], axis=1)\n",
        "train_y = data['yield']"
      ]
    },
    {
      "cell_type": "code",
      "execution_count": 7,
      "metadata": {
        "id": "CwPbrPv6_ztR"
      },
      "outputs": [],
      "source": [
        "train = data[:int(0.8*len(data))]\n",
        "test = data[int(0.8*len(data)):]"
      ]
    },
    {
      "cell_type": "code",
      "execution_count": 8,
      "metadata": {
        "id": "yTp837wc_ztS"
      },
      "outputs": [],
      "source": [
        "test_answers = test['yield']"
      ]
    },
    {
      "cell_type": "code",
      "execution_count": 9,
      "metadata": {
        "id": "5el4L6Xb_ztS"
      },
      "outputs": [],
      "source": [
        "test = test.drop(['yield'], axis=1)"
      ]
    },
    {
      "cell_type": "code",
      "execution_count": 10,
      "metadata": {
        "id": "8g_8Z1gg_ztT"
      },
      "outputs": [],
      "source": [
        "# testing = pd.read_csv('test.csv')\n",
        "# test_ids = testing['id']\n",
        "# testing.drop(['id', 'Row#'], axis=1, inplace=True)"
      ]
    },
    {
      "cell_type": "code",
      "execution_count": 11,
      "metadata": {
        "id": "61-i-Bw3_ztT"
      },
      "outputs": [],
      "source": [
        "# submission = pd.DataFrame(columns=['id', 'yield'])\n",
        "# submission['id'] = test_ids\n",
        "# for i in tqdm(range(len(testing))):\n",
        "#     submission.loc[i, 'yield'] = kernel.evaluate(np.array(testing.iloc[i]))"
      ]
    },
    {
      "cell_type": "code",
      "execution_count": 12,
      "metadata": {
        "id": "pPzTPdbc_ztU"
      },
      "outputs": [],
      "source": [
        "# function/len(test)"
      ]
    },
    {
      "cell_type": "code",
      "execution_count": 13,
      "metadata": {
        "id": "2lwVQAWI_ztU"
      },
      "outputs": [],
      "source": [
        "# submission.to_csv('submission_1.csv', index=False)"
      ]
    },
    {
      "cell_type": "code",
      "execution_count": 14,
      "metadata": {
        "id": "_IibQlVb_ztU"
      },
      "outputs": [],
      "source": [
        "# np.sum(np.abs(function - test_answers)) / len(test_answers)"
      ]
    },
    {
      "cell_type": "code",
      "execution_count": 20,
      "metadata": {
        "colab": {
          "base_uri": "https://localhost:8080/"
        },
        "id": "-V1vizyLBcYr",
        "outputId": "d732a935-2ba4-4c78-bbb4-200ae80c9c66"
      },
      "outputs": [
        {
          "data": {
            "text/plain": [
              "338.7243371050752"
            ]
          },
          "execution_count": 20,
          "metadata": {},
          "output_type": "execute_result"
        }
      ],
      "source": [
        "kernel_now = NadarayaKernel(bandwidth=1)\n",
        "kernel_now.fit(train)\n",
        "predict_train = kernel_now.predict(test)\n",
        "np.sum(np.abs(predict_train - test_answers)) / len(test_answers)"
      ]
    },
    {
      "cell_type": "code",
      "execution_count": 21,
      "metadata": {
        "colab": {
          "base_uri": "https://localhost:8080/"
        },
        "id": "KSUW4oVfCCsY",
        "outputId": "d0316d3d-48aa-4d08-ae68-5c18c438addd"
      },
      "outputs": [
        {
          "name": "stdout",
          "output_type": "stream",
          "text": [
            "------------ 338.7243371050752\n",
            "------------ 343.8427722697462\n",
            "------------ 355.31829171369094\n"
          ]
        },
        {
          "ename": "KeyboardInterrupt",
          "evalue": "",
          "output_type": "error",
          "traceback": [
            "\u001b[1;31m---------------------------------------------------------------------------\u001b[0m",
            "\u001b[1;31mKeyboardInterrupt\u001b[0m                         Traceback (most recent call last)",
            "Cell \u001b[1;32mIn[21], line 6\u001b[0m\n\u001b[0;32m      4\u001b[0m kernel_now \u001b[38;5;241m=\u001b[39m NadarayaKernel(bandwidth\u001b[38;5;241m=\u001b[39mi)\n\u001b[0;32m      5\u001b[0m kernel_now\u001b[38;5;241m.\u001b[39mfit(train)\n\u001b[1;32m----> 6\u001b[0m predict_train \u001b[38;5;241m=\u001b[39m \u001b[43mkernel_now\u001b[49m\u001b[38;5;241;43m.\u001b[39;49m\u001b[43mpredict\u001b[49m\u001b[43m(\u001b[49m\u001b[43mtest\u001b[49m\u001b[43m)\u001b[49m\n\u001b[0;32m      7\u001b[0m alpha \u001b[38;5;241m=\u001b[39m np\u001b[38;5;241m.\u001b[39msum(np\u001b[38;5;241m.\u001b[39mabs(predict_train \u001b[38;5;241m-\u001b[39m test_answers)) \u001b[38;5;241m/\u001b[39m \u001b[38;5;28mlen\u001b[39m(test_answers)\n\u001b[0;32m      8\u001b[0m \u001b[38;5;28mprint\u001b[39m(\u001b[38;5;124m'\u001b[39m\u001b[38;5;124m------------\u001b[39m\u001b[38;5;124m'\u001b[39m, alpha)\n",
            "Cell \u001b[1;32mIn[19], line 39\u001b[0m, in \u001b[0;36mNadarayaKernel.predict\u001b[1;34m(self, test)\u001b[0m\n\u001b[0;32m     36\u001b[0m \u001b[38;5;66;03m# print(test_expanded.shape, data_expanded.shape)\u001b[39;00m\n\u001b[0;32m     38\u001b[0m diff \u001b[38;5;241m=\u001b[39m (test_expanded \u001b[38;5;241m-\u001b[39m data_expanded)\u001b[38;5;241m/\u001b[39m\u001b[38;5;28mself\u001b[39m\u001b[38;5;241m.\u001b[39mbandwidth\n\u001b[1;32m---> 39\u001b[0m nor \u001b[38;5;241m=\u001b[39m \u001b[43mnp\u001b[49m\u001b[38;5;241;43m.\u001b[39;49m\u001b[43msum\u001b[49m\u001b[43m(\u001b[49m\u001b[43mdiff\u001b[49m\u001b[38;5;241;43m*\u001b[39;49m\u001b[38;5;241;43m*\u001b[39;49m\u001b[38;5;241;43m2\u001b[39;49m\u001b[43m,\u001b[49m\u001b[43m \u001b[49m\u001b[43maxis\u001b[49m\u001b[38;5;241;43m=\u001b[39;49m\u001b[38;5;241;43m2\u001b[39;49m\u001b[43m)\u001b[49m\n\u001b[0;32m     40\u001b[0m kernel_values \u001b[38;5;241m=\u001b[39m (\u001b[38;5;241m1\u001b[39m \u001b[38;5;241m/\u001b[39m np\u001b[38;5;241m.\u001b[39msqrt(\u001b[38;5;241m2\u001b[39m \u001b[38;5;241m*\u001b[39m np\u001b[38;5;241m.\u001b[39mpi))\u001b[38;5;241m*\u001b[39m\u001b[38;5;241m*\u001b[39m\u001b[38;5;241m16\u001b[39m \u001b[38;5;241m*\u001b[39m np\u001b[38;5;241m.\u001b[39mexp(\u001b[38;5;241m-\u001b[39m\u001b[38;5;241m0.5\u001b[39m \u001b[38;5;241m*\u001b[39m (nor \u001b[38;5;241m/\u001b[39m \u001b[38;5;28mself\u001b[39m\u001b[38;5;241m.\u001b[39mbandwidth)\u001b[38;5;241m*\u001b[39m\u001b[38;5;241m*\u001b[39m\u001b[38;5;241m2\u001b[39m)\n\u001b[0;32m     41\u001b[0m \u001b[38;5;66;03m# kernel_values = np.where(nor >= 1, 0, 3 * (1 - nor) / (4 * self.bandwidth))\u001b[39;00m\n\u001b[0;32m     42\u001b[0m \u001b[38;5;66;03m# nor = np.where(nor >= 1, 1, nor)\u001b[39;00m\n\u001b[0;32m     43\u001b[0m \u001b[38;5;66;03m# kernel_values = 3*40320*(1-nor)/(np.pi**8)\u001b[39;00m\n",
            "File \u001b[1;32mc:\\Users\\mouli\\AppData\\Local\\Programs\\Python\\Python312\\Lib\\site-packages\\numpy\\core\\fromnumeric.py:2172\u001b[0m, in \u001b[0;36m_sum_dispatcher\u001b[1;34m(a, axis, dtype, out, keepdims, initial, where)\u001b[0m\n\u001b[0;32m   2102\u001b[0m \u001b[38;5;250m    \u001b[39m\u001b[38;5;124;03m\"\"\"\u001b[39;00m\n\u001b[0;32m   2103\u001b[0m \u001b[38;5;124;03m    Clip (limit) the values in an array.\u001b[39;00m\n\u001b[0;32m   2104\u001b[0m \n\u001b[1;32m   (...)\u001b[0m\n\u001b[0;32m   2167\u001b[0m \n\u001b[0;32m   2168\u001b[0m \u001b[38;5;124;03m    \"\"\"\u001b[39;00m\n\u001b[0;32m   2169\u001b[0m     \u001b[38;5;28;01mreturn\u001b[39;00m _wrapfunc(a, \u001b[38;5;124m'\u001b[39m\u001b[38;5;124mclip\u001b[39m\u001b[38;5;124m'\u001b[39m, a_min, a_max, out\u001b[38;5;241m=\u001b[39mout, \u001b[38;5;241m*\u001b[39m\u001b[38;5;241m*\u001b[39mkwargs)\n\u001b[1;32m-> 2172\u001b[0m \u001b[38;5;28;01mdef\u001b[39;00m \u001b[38;5;21m_sum_dispatcher\u001b[39m(a, axis\u001b[38;5;241m=\u001b[39m\u001b[38;5;28;01mNone\u001b[39;00m, dtype\u001b[38;5;241m=\u001b[39m\u001b[38;5;28;01mNone\u001b[39;00m, out\u001b[38;5;241m=\u001b[39m\u001b[38;5;28;01mNone\u001b[39;00m, keepdims\u001b[38;5;241m=\u001b[39m\u001b[38;5;28;01mNone\u001b[39;00m,\n\u001b[0;32m   2173\u001b[0m                     initial\u001b[38;5;241m=\u001b[39m\u001b[38;5;28;01mNone\u001b[39;00m, where\u001b[38;5;241m=\u001b[39m\u001b[38;5;28;01mNone\u001b[39;00m):\n\u001b[0;32m   2174\u001b[0m     \u001b[38;5;28;01mreturn\u001b[39;00m (a, out)\n\u001b[0;32m   2177\u001b[0m \u001b[38;5;129m@array_function_dispatch\u001b[39m(_sum_dispatcher)\n\u001b[0;32m   2178\u001b[0m \u001b[38;5;28;01mdef\u001b[39;00m \u001b[38;5;21msum\u001b[39m(a, axis\u001b[38;5;241m=\u001b[39m\u001b[38;5;28;01mNone\u001b[39;00m, dtype\u001b[38;5;241m=\u001b[39m\u001b[38;5;28;01mNone\u001b[39;00m, out\u001b[38;5;241m=\u001b[39m\u001b[38;5;28;01mNone\u001b[39;00m, keepdims\u001b[38;5;241m=\u001b[39mnp\u001b[38;5;241m.\u001b[39m_NoValue,\n\u001b[0;32m   2179\u001b[0m         initial\u001b[38;5;241m=\u001b[39mnp\u001b[38;5;241m.\u001b[39m_NoValue, where\u001b[38;5;241m=\u001b[39mnp\u001b[38;5;241m.\u001b[39m_NoValue):\n",
            "\u001b[1;31mKeyboardInterrupt\u001b[0m: "
          ]
        }
      ],
      "source": [
        "cross = []\n",
        "x = []\n",
        "for i in np.linspace(1, 3, 10):\n",
        "    kernel_now = NadarayaKernel(bandwidth=i)\n",
        "    kernel_now.fit(train)\n",
        "    predict_train = kernel_now.predict(test)\n",
        "    alpha = np.sum(np.abs(predict_train - test_answers)) / len(test_answers)\n",
        "    print('------------', alpha)\n",
        "    cross.append(alpha)\n",
        "    x.append(i)"
      ]
    },
    {
      "cell_type": "code",
      "execution_count": 17,
      "metadata": {
        "colab": {
          "base_uri": "https://localhost:8080/",
          "height": 430
        },
        "id": "-fKD9TDxCwnX",
        "outputId": "0ad18c6b-e034-40dd-f635-258513dd916a"
      },
      "outputs": [
        {
          "data": {
            "image/png": "[encoded data removed]",
            "text/plain": [
              "<Figure size 640x480 with 1 Axes>"
            ]
          },
          "metadata": {},
          "output_type": "display_data"
        }
      ],
      "source": [
        "plt.plot(x, cross)\n",
        "plt.show()"
      ]
    },
    {
      "cell_type": "code",
      "execution_count": 18,
      "metadata": {
        "colab": {
          "base_uri": "https://localhost:8080/"
        },
        "id": "N2ZFUyj1GH3i",
        "outputId": "582f1c2d-f032-4a52-eb48-38bfb6582675"
      },
      "outputs": [
        {
          "data": {
            "text/plain": [
              "4"
            ]
          },
          "execution_count": 18,
          "metadata": {},
          "output_type": "execute_result"
        }
      ],
      "source": [
        "np.argmin(cross)"
      ]
    },
    {
      "cell_type": "code",
      "execution_count": null,
      "metadata": {
        "id": "e-AdbOX-GOs0"
      },
      "outputs": [],
      "source": []
    }
  ],
  "metadata": {
    "accelerator": "GPU",
    "colab": {
      "gpuType": "T4",
      "provenance": []
    },
    "kernelspec": {
      "display_name": "Python 3",
      "name": "python3"
    },
    "language_info": {
      "codemirror_mode": {
        "name": "ipython",
        "version": 3
      },
      "file_extension": ".py",
      "mimetype": "text/x-python",
      "name": "python",
      "nbconvert_exporter": "python",
      "pygments_lexer": "ipython3",
      "version": "3.10.12"
    }
  },
  "nbformat": 4,
  "nbformat_minor": 0
}
